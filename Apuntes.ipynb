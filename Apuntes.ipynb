{
  "nbformat": 4,
  "nbformat_minor": 0,
  "metadata": {
    "colab": {
      "provenance": [],
      "toc_visible": true
    },
    "kernelspec": {
      "name": "python3",
      "display_name": "Python 3"
    },
    "language_info": {
      "name": "python"
    }
  },
  "cells": [
    {
      "cell_type": "code",
      "source": [],
      "metadata": {
        "id": "kfp0FOUyi1JO"
      },
      "execution_count": null,
      "outputs": []
    },
    {
      "cell_type": "markdown",
      "source": [
        "***PRACTICA LAB 1***"
      ],
      "metadata": {
        "id": "oYufR4mLi13f"
      }
    },
    {
      "cell_type": "code",
      "execution_count": null,
      "metadata": {
        "id": "_6x3oeoKUcC-",
        "colab": {
          "base_uri": "https://localhost:8080/",
          "height": 35
        },
        "outputId": "d3e58cc2-3f09-49d3-f1e2-2478f32019fb"
      },
      "outputs": [
        {
          "output_type": "execute_result",
          "data": {
            "text/plain": [
              "' 1 2 3 4 5 6 7 '"
            ],
            "application/vnd.google.colaboratory.intrinsic+json": {
              "type": "string"
            }
          },
          "metadata": {},
          "execution_count": 1
        }
      ],
      "source": [
        "#CADENA USANDO COMILLAS DOBLES\n",
        "\n",
        "\"Andres useche\"\n",
        "\n",
        "#CADENAS CON COMILLAS SIMPLES\n",
        "\n",
        "'Andres useche'\n",
        "\n",
        "#UNA CADENA PUEDE SER UNA COMBINACIÓN DE ESPACIOS Y DIGITOS\n",
        "\" 1 2 3 4 5 6 7 \"\n",
        "\n",
        "\n",
        "\n",
        "\n",
        "\n"
      ]
    },
    {
      "cell_type": "code",
      "source": [
        "#IMRPRIMIR UNA CADENA\n",
        "\n",
        "print(\"Hola soy andres useche\")\n",
        "print(\"PUJ\")"
      ],
      "metadata": {
        "colab": {
          "base_uri": "https://localhost:8080/"
        },
        "id": "Cp2Wk6PwYd8-",
        "outputId": "e226673e-0009-495a-9297-5ac3a19ea7ab"
      },
      "execution_count": null,
      "outputs": [
        {
          "output_type": "stream",
          "name": "stdout",
          "text": [
            "Hola soy andres useche\n",
            "PUJ\n"
          ]
        }
      ]
    },
    {
      "cell_type": "code",
      "source": [
        "#asignar una cadena al valor de una variable\n",
        "\n",
        "Name = \"Andres Useche\"\n",
        "Name"
      ],
      "metadata": {
        "colab": {
          "base_uri": "https://localhost:8080/",
          "height": 35
        },
        "id": "PwXJYeMBYsml",
        "outputId": "2710ff0f-7940-4a20-ec4a-261c1223791b"
      },
      "execution_count": null,
      "outputs": [
        {
          "output_type": "execute_result",
          "data": {
            "text/plain": [
              "'Andres Useche'"
            ],
            "application/vnd.google.colaboratory.intrinsic+json": {
              "type": "string"
            }
          },
          "metadata": {},
          "execution_count": 2
        }
      ]
    },
    {
      "cell_type": "markdown",
      "source": [
        "INDEXACIÓN"
      ],
      "metadata": {
        "id": "nF8-laHUaZhT"
      }
    },
    {
      "cell_type": "code",
      "source": [
        "#INDEXACIÓN\n",
        "#cada cadena es una secuencia y podemos adcceder a un parte especifica de la cadena por el indice\n",
        "# En la indexación se empieza por el 0, esto quiere decir que el primer elemento de la cadena está en el índice 0.\n",
        "print(Name[1])\n"
      ],
      "metadata": {
        "colab": {
          "base_uri": "https://localhost:8080/"
        },
        "id": "tvv_KJ5uZFUj",
        "outputId": "272ca131-2ebe-4c80-9824-0faec7207ea7"
      },
      "execution_count": null,
      "outputs": [
        {
          "output_type": "stream",
          "name": "stdout",
          "text": [
            "n\n"
          ]
        }
      ]
    },
    {
      "cell_type": "code",
      "source": [
        "print(Name[1-1])\n"
      ],
      "metadata": {
        "colab": {
          "base_uri": "https://localhost:8080/"
        },
        "id": "UAbm_thLZ1R-",
        "outputId": "22b2701e-3d11-40d8-ee7a-c3fa31d3fffd"
      },
      "execution_count": null,
      "outputs": [
        {
          "output_type": "stream",
          "name": "stdout",
          "text": [
            "A\n"
          ]
        }
      ]
    },
    {
      "cell_type": "code",
      "source": [
        "print(Name[0:6])\n",
        "print(Name [0:3])\n",
        "\n"
      ],
      "metadata": {
        "colab": {
          "base_uri": "https://localhost:8080/"
        },
        "id": "HmikhZsmZ-cY",
        "outputId": "93f5b995-ecf2-460b-95a9-eb909b9e4453"
      },
      "execution_count": null,
      "outputs": [
        {
          "output_type": "stream",
          "name": "stdout",
          "text": [
            "Andres\n",
            "And\n"
          ]
        }
      ]
    },
    {
      "cell_type": "markdown",
      "source": [
        "INDEXACIÓN NEGATIVA"
      ],
      "metadata": {
        "id": "jPih5r15aeRj"
      }
    },
    {
      "cell_type": "code",
      "source": [
        "print(Name[-1])"
      ],
      "metadata": {
        "colab": {
          "base_uri": "https://localhost:8080/"
        },
        "id": "fY3wJBFNahTJ",
        "outputId": "314507b3-9696-4213-c1d8-e37da830d9d9"
      },
      "execution_count": null,
      "outputs": [
        {
          "output_type": "stream",
          "name": "stdout",
          "text": [
            "e\n"
          ]
        }
      ]
    },
    {
      "cell_type": "code",
      "source": [
        "print(Name[-13:-1])\n",
        "print(Name)\n"
      ],
      "metadata": {
        "colab": {
          "base_uri": "https://localhost:8080/"
        },
        "id": "eeuHY5pxa2Yn",
        "outputId": "6ce5e045-f17f-456a-fa1b-f2c785254bbf"
      },
      "execution_count": null,
      "outputs": [
        {
          "output_type": "stream",
          "name": "stdout",
          "text": [
            "Andres Usech\n",
            "Andres Useche\n"
          ]
        }
      ]
    },
    {
      "cell_type": "code",
      "source": [
        "#Encontrar la longitud de la cadena\n",
        "len(Name)\n"
      ],
      "metadata": {
        "colab": {
          "base_uri": "https://localhost:8080/"
        },
        "id": "ymYL5-dekfGW",
        "outputId": "b52ba8b7-b970-43dd-82f9-08e650d56a8c"
      },
      "execution_count": null,
      "outputs": [
        {
          "output_type": "execute_result",
          "data": {
            "text/plain": [
              "13"
            ]
          },
          "metadata": {},
          "execution_count": 12
        }
      ]
    },
    {
      "cell_type": "code",
      "source": [
        "len(\"Andres Useche es el amo\")"
      ],
      "metadata": {
        "colab": {
          "base_uri": "https://localhost:8080/"
        },
        "id": "0uhCVQUbk_Hq",
        "outputId": "e3eaa522-1339-4378-947b-e8be1fed908a"
      },
      "execution_count": null,
      "outputs": [
        {
          "output_type": "execute_result",
          "data": {
            "text/plain": [
              "23"
            ]
          },
          "metadata": {},
          "execution_count": 11
        }
      ]
    },
    {
      "cell_type": "markdown",
      "source": [
        "SLICING"
      ],
      "metadata": {
        "id": "UDW03-DBv06V"
      }
    },
    {
      "cell_type": "code",
      "source": [
        "#Obtener una sub-cadena de una cadena de caracteres\n",
        "#el primer numero indica el indice del primer elemento, el segundo numero\n",
        "#indicara el indice del ultimo elemento de la sub-cadena que queremos obtener"
      ],
      "metadata": {
        "id": "Haz2-PRslBH0"
      },
      "execution_count": null,
      "outputs": []
    },
    {
      "cell_type": "code",
      "source": [
        "# Asigna una seccion de la cadena dentro de la variable Name usando los indices desde el 0 hasta el 3\n",
        "\n",
        "Name[0:4]\n",
        "\n",
        "\n"
      ],
      "metadata": {
        "colab": {
          "base_uri": "https://localhost:8080/",
          "height": 36
        },
        "id": "71S3hYN_zwWg",
        "outputId": "2b2618b9-4550-41bf-ca81-43d8b15d5f42"
      },
      "execution_count": null,
      "outputs": [
        {
          "output_type": "execute_result",
          "data": {
            "text/plain": [
              "'Andr'"
            ],
            "application/vnd.google.colaboratory.intrinsic+json": {
              "type": "string"
            }
          },
          "metadata": {},
          "execution_count": 13
        }
      ]
    },
    {
      "cell_type": "markdown",
      "source": [
        "STRIDE"
      ],
      "metadata": {
        "id": "GBPogcAi0Pii"
      }
    },
    {
      "cell_type": "code",
      "source": [
        "Name[::2]\n"
      ],
      "metadata": {
        "colab": {
          "base_uri": "https://localhost:8080/",
          "height": 36
        },
        "id": "DBeuVvQp0ZVo",
        "outputId": "4c26ef12-a6d9-4f93-fa2d-38e788d3ef03"
      },
      "execution_count": null,
      "outputs": [
        {
          "output_type": "execute_result",
          "data": {
            "text/plain": [
              "'Ade sce'"
            ],
            "application/vnd.google.colaboratory.intrinsic+json": {
              "type": "string"
            }
          },
          "metadata": {},
          "execution_count": 16
        }
      ]
    },
    {
      "cell_type": "code",
      "source": [
        "Name[::1]"
      ],
      "metadata": {
        "colab": {
          "base_uri": "https://localhost:8080/",
          "height": 36
        },
        "id": "apGS6xEp3nKs",
        "outputId": "ad6125bc-ab07-4cbd-8b5b-7923fdfa91db"
      },
      "execution_count": null,
      "outputs": [
        {
          "output_type": "execute_result",
          "data": {
            "text/plain": [
              "'Andres Useche'"
            ],
            "application/vnd.google.colaboratory.intrinsic+json": {
              "type": "string"
            }
          },
          "metadata": {},
          "execution_count": 17
        }
      ]
    },
    {
      "cell_type": "code",
      "source": [
        "Name[::4]"
      ],
      "metadata": {
        "colab": {
          "base_uri": "https://localhost:8080/",
          "height": 36
        },
        "id": "ZnsGrVv-3rx6",
        "outputId": "45eea280-5331-43f3-8b72-502195adb815"
      },
      "execution_count": null,
      "outputs": [
        {
          "output_type": "execute_result",
          "data": {
            "text/plain": [
              "'Aese'"
            ],
            "application/vnd.google.colaboratory.intrinsic+json": {
              "type": "string"
            }
          },
          "metadata": {},
          "execution_count": 18
        }
      ]
    },
    {
      "cell_type": "code",
      "source": [
        "#Se puede combinar el slicing con el stride. Para este caso,\n",
        "#seleccionamos los primeros cinco elementos y después aplicamos stride\n",
        "Name[0:5:2]"
      ],
      "metadata": {
        "colab": {
          "base_uri": "https://localhost:8080/",
          "height": 36
        },
        "id": "dO-Kb_4Q4JyY",
        "outputId": "048e6490-c57a-4b33-96a0-2bf6761a4b84"
      },
      "execution_count": null,
      "outputs": [
        {
          "output_type": "execute_result",
          "data": {
            "text/plain": [
              "'Ade'"
            ],
            "application/vnd.google.colaboratory.intrinsic+json": {
              "type": "string"
            }
          },
          "metadata": {},
          "execution_count": 20
        }
      ]
    },
    {
      "cell_type": "code",
      "source": [
        "len(Name)"
      ],
      "metadata": {
        "colab": {
          "base_uri": "https://localhost:8080/"
        },
        "id": "CP5IcoEZ4eSC",
        "outputId": "5ec3f295-64c9-418f-a4b4-d64ba044da0c"
      },
      "execution_count": null,
      "outputs": [
        {
          "output_type": "execute_result",
          "data": {
            "text/plain": [
              "13"
            ]
          },
          "metadata": {},
          "execution_count": 22
        }
      ]
    },
    {
      "cell_type": "code",
      "source": [
        "Name[0:13:2]"
      ],
      "metadata": {
        "colab": {
          "base_uri": "https://localhost:8080/",
          "height": 36
        },
        "id": "RNgdd4w14m6A",
        "outputId": "7cd9ca66-6775-4ea0-e37c-41bd5e1f618c"
      },
      "execution_count": null,
      "outputs": [
        {
          "output_type": "execute_result",
          "data": {
            "text/plain": [
              "'Ade sce'"
            ],
            "application/vnd.google.colaboratory.intrinsic+json": {
              "type": "string"
            }
          },
          "metadata": {},
          "execution_count": 23
        }
      ]
    },
    {
      "cell_type": "code",
      "source": [
        "#Concatenar cadenas\n",
        "Name2 = Name + \" es el amo\"\n",
        "print(Name2)"
      ],
      "metadata": {
        "colab": {
          "base_uri": "https://localhost:8080/"
        },
        "id": "kiKRa4zY43Cu",
        "outputId": "22f550ba-987d-44f6-8a0e-8924080358ad"
      },
      "execution_count": null,
      "outputs": [
        {
          "output_type": "stream",
          "name": "stdout",
          "text": [
            "Andres Useche es el amo\n"
          ]
        }
      ]
    },
    {
      "cell_type": "code",
      "source": [
        "#Imprimir la cadena mas ed una vez\n",
        "\n",
        "4*Name"
      ],
      "metadata": {
        "colab": {
          "base_uri": "https://localhost:8080/",
          "height": 36
        },
        "id": "UBBYx6ua5Mge",
        "outputId": "6eb62203-19eb-42be-cdd0-7b87cc706f25"
      },
      "execution_count": null,
      "outputs": [
        {
          "output_type": "execute_result",
          "data": {
            "text/plain": [
              "'Andres UsecheAndres UsecheAndres UsecheAndres Useche'"
            ],
            "application/vnd.google.colaboratory.intrinsic+json": {
              "type": "string"
            }
          },
          "metadata": {},
          "execution_count": 27
        }
      ]
    },
    {
      "cell_type": "code",
      "source": [
        "#Modificar la cadena sumandole mas caractes en la misma variable\n",
        "Name = Name + \" amo y señor\"\n",
        "Name"
      ],
      "metadata": {
        "colab": {
          "base_uri": "https://localhost:8080/",
          "height": 36
        },
        "id": "WaXcHO4G5ezq",
        "outputId": "3ec69314-99bd-469b-e021-7ca9d2dae774"
      },
      "execution_count": null,
      "outputs": [
        {
          "output_type": "execute_result",
          "data": {
            "text/plain": [
              "'Andres Useche amo y señor'"
            ],
            "application/vnd.google.colaboratory.intrinsic+json": {
              "type": "string"
            }
          },
          "metadata": {},
          "execution_count": 28
        }
      ]
    },
    {
      "cell_type": "markdown",
      "source": [
        "SECUENCIAS DE ESCAPE"
      ],
      "metadata": {
        "id": "J9jxVMO852AX"
      }
    },
    {
      "cell_type": "code",
      "source": [
        "#una barra invertida seguida de una \"n\" representa un salto de línea.\n",
        "print(\"Andres Useche \\n el amo y señor\")"
      ],
      "metadata": {
        "colab": {
          "base_uri": "https://localhost:8080/"
        },
        "id": "qja0Ee3l56Zu",
        "outputId": "4aede85e-6303-4c5a-a5fe-1ba84046d09c"
      },
      "execution_count": null,
      "outputs": [
        {
          "output_type": "stream",
          "name": "stdout",
          "text": [
            "Andres Useche \n",
            " el amo y señor\n"
          ]
        }
      ]
    },
    {
      "cell_type": "code",
      "source": [
        "#Secuencia de escape para un espacio de tabulación\n",
        "print(\"Andres useche \\t el amo y señor\")"
      ],
      "metadata": {
        "colab": {
          "base_uri": "https://localhost:8080/"
        },
        "id": "Y3D38Gcy6QD9",
        "outputId": "e93388b7-c72a-443e-c72c-27f29eada5e9"
      },
      "execution_count": null,
      "outputs": [
        {
          "output_type": "stream",
          "name": "stdout",
          "text": [
            "Andres useche \t el amo y señor\n"
          ]
        }
      ]
    },
    {
      "cell_type": "code",
      "source": [
        "#incluir una barra invertida en una cadena\n",
        "print(\"Andres Useche \\\\ el amo y señor\")"
      ],
      "metadata": {
        "colab": {
          "base_uri": "https://localhost:8080/"
        },
        "id": "-Px_64mi6rpb",
        "outputId": "8d4d9e34-d963-4784-cdf3-de474f212e8e"
      },
      "execution_count": null,
      "outputs": [
        {
          "output_type": "stream",
          "name": "stdout",
          "text": [
            "Andres Useche \\ el amo y señor\n"
          ]
        }
      ]
    },
    {
      "cell_type": "code",
      "source": [
        "#¿Que pasa si es solo una?\n",
        "print(\"Andres Useche \\ el amo y señor\")"
      ],
      "metadata": {
        "colab": {
          "base_uri": "https://localhost:8080/"
        },
        "id": "rFH_P8vC62fu",
        "outputId": "8e1670ad-4ac7-4947-b8a4-e8d1e894eb11"
      },
      "execution_count": null,
      "outputs": [
        {
          "output_type": "stream",
          "name": "stdout",
          "text": [
            "Andres Useche \\ el amo y señor\n"
          ]
        }
      ]
    },
    {
      "cell_type": "code",
      "source": [
        "# La letra r le dirá a python que muestre la cadena tal cual e ignore lo que haya\n",
        "# despues de la barra invertida\n",
        "\n",
        "print(r\"Andres useche \\ el amo y señor\")\n"
      ],
      "metadata": {
        "colab": {
          "base_uri": "https://localhost:8080/"
        },
        "id": "nnnUO4Ih7QPe",
        "outputId": "fa92ba97-8e20-42eb-84ea-313a6489bd7a"
      },
      "execution_count": null,
      "outputs": [
        {
          "output_type": "stream",
          "name": "stdout",
          "text": [
            "Andres useche \\ el amo y señor\n"
          ]
        }
      ]
    },
    {
      "cell_type": "markdown",
      "source": [
        "OPERACIONES CON CADENAS"
      ],
      "metadata": {
        "id": "KMPzaBVra7ug"
      }
    },
    {
      "cell_type": "code",
      "source": [
        "#CONVERTIR TODOS LOS CARACTERES DE LA CADENA EN MAYUSULA\n",
        "\n",
        "print(\"before upper: \", Name)\n",
        "print(\"after upper: \", Name.upper())\n"
      ],
      "metadata": {
        "colab": {
          "base_uri": "https://localhost:8080/"
        },
        "id": "Fu7Kot7ya9wA",
        "outputId": "2796ccc6-07b2-42d3-cb18-afed9285b017"
      },
      "execution_count": null,
      "outputs": [
        {
          "output_type": "stream",
          "name": "stdout",
          "text": [
            "before upper:  Andres Useche\n",
            "after upper:  ANDRES USECHE\n"
          ]
        }
      ]
    },
    {
      "cell_type": "code",
      "source": [
        "A= \"puj\"\n",
        "A= A.upper()\n",
        "print(A.upper())"
      ],
      "metadata": {
        "colab": {
          "base_uri": "https://localhost:8080/"
        },
        "id": "rOsHt9yTbs7Q",
        "outputId": "f5aec1fd-c4f4-4e34-d87f-863c92c30c6f"
      },
      "execution_count": null,
      "outputs": [
        {
          "output_type": "stream",
          "name": "stdout",
          "text": [
            "PUJ\n"
          ]
        }
      ]
    },
    {
      "cell_type": "code",
      "source": [
        "#Remplezar una parte de la cadena por una nueva\n",
        "B= A+ \" en un colegio\"\n",
        "print(B.replace(A,\"mayores\"))"
      ],
      "metadata": {
        "colab": {
          "base_uri": "https://localhost:8080/"
        },
        "id": "cq8ctbUFcBRx",
        "outputId": "7d341618-8917-43ae-e0bb-954396036ff8"
      },
      "execution_count": null,
      "outputs": [
        {
          "output_type": "stream",
          "name": "stdout",
          "text": [
            "mayores en un colegio\n"
          ]
        }
      ]
    },
    {
      "cell_type": "code",
      "source": [
        "print( \"primer intento: \\n\" ,B.replace(\"colegio \", \"universidad\"))\n",
        "##no se puede asi entonces\n",
        "print(\"segundo intento \\n\", A.replace(\"puj\", \"mayores\"))\n",
        "print(A, \"\\t\", B)\n",
        "print(B.replace(\"colegio\", \"universidad\"))"
      ],
      "metadata": {
        "colab": {
          "base_uri": "https://localhost:8080/"
        },
        "id": "7F2cMeTKdd6N",
        "outputId": "942584ca-a8ae-4b4f-c6f9-eb039f9882e5"
      },
      "execution_count": null,
      "outputs": [
        {
          "output_type": "stream",
          "name": "stdout",
          "text": [
            "primer intento: \n",
            " puj en un colegio\n",
            "segundo intento \n",
            " PUJ\n",
            "PUJ \t puj en un colegio\n",
            "puj en un universidad\n"
          ]
        }
      ]
    },
    {
      "cell_type": "code",
      "source": [
        "#FUNCION find\n",
        "\n",
        "print(Name.find(\"U\"))\n",
        "print(Name.find(\"Useche\"))\n",
        "print(Name.find(\"j\"))"
      ],
      "metadata": {
        "colab": {
          "base_uri": "https://localhost:8080/"
        },
        "id": "YoxACTt9hke-",
        "outputId": "4f7090a7-bd46-4100-eca0-1a1e67813bc5"
      },
      "execution_count": null,
      "outputs": [
        {
          "output_type": "stream",
          "name": "stdout",
          "text": [
            "7\n",
            "7\n",
            "-1\n"
          ]
        }
      ]
    },
    {
      "cell_type": "markdown",
      "source": [
        "LAB 2 ***TUPLAS***"
      ],
      "metadata": {
        "id": "pcDDRh4BglD9"
      }
    },
    {
      "cell_type": "code",
      "source": [
        "#Crear tu primera tupla\n",
        "tuple1 =(1,2,3)\n",
        "tuple1"
      ],
      "metadata": {
        "colab": {
          "base_uri": "https://localhost:8080/"
        },
        "id": "KBgFhcEdg_j0",
        "outputId": "f377a0e0-de7d-42cd-cf7b-408101d23936"
      },
      "execution_count": null,
      "outputs": [
        {
          "output_type": "execute_result",
          "data": {
            "text/plain": [
              "(1, 2, 3)"
            ]
          },
          "metadata": {},
          "execution_count": 1
        }
      ]
    },
    {
      "cell_type": "code",
      "source": [
        "#imprimer el tipo de dato de la tupla\n",
        "type(tuple1)"
      ],
      "metadata": {
        "colab": {
          "base_uri": "https://localhost:8080/"
        },
        "id": "CAu2-PKMhUVi",
        "outputId": "1a2ab7fd-e61d-4d3c-d848-121ddb08ee2b"
      },
      "execution_count": null,
      "outputs": [
        {
          "output_type": "execute_result",
          "data": {
            "text/plain": [
              "tuple"
            ]
          },
          "metadata": {},
          "execution_count": 3
        }
      ]
    },
    {
      "cell_type": "markdown",
      "source": [
        "Indexación"
      ],
      "metadata": {
        "id": "eSe60fPwhqKs"
      }
    },
    {
      "cell_type": "code",
      "source": [
        "#Cada elemento dentro de la tupla puede ser accedido a través de su número de índice. La siguiente tabla representa la relación entre el número de índice y los elementos dentro de la tupla.\n",
        "#imprimir la variable de cada indice\n",
        "print (tuple1[0])\n",
        "print(tuple1[1])\n",
        "print(tuple1[2])"
      ],
      "metadata": {
        "colab": {
          "base_uri": "https://localhost:8080/"
        },
        "id": "ohcCtjRshtTZ",
        "outputId": "5bcb8d00-9b25-4cca-c93f-1c960858ab86"
      },
      "execution_count": null,
      "outputs": [
        {
          "output_type": "stream",
          "name": "stdout",
          "text": [
            "1\n",
            "2\n",
            "3\n"
          ]
        }
      ]
    },
    {
      "cell_type": "code",
      "source": [
        "#imprimir el tipo de valor de cada uno de los indices\n",
        "print(type(tuple1[0]))\n",
        "print(type(tuple1[1]))\n",
        "print(type(tuple1[2]))"
      ],
      "metadata": {
        "colab": {
          "base_uri": "https://localhost:8080/"
        },
        "id": "aapbV5mViICA",
        "outputId": "57024ce2-6bb6-4b07-a5de-cc53f93d6da8"
      },
      "execution_count": null,
      "outputs": [
        {
          "output_type": "stream",
          "name": "stdout",
          "text": [
            "<class 'int'>\n",
            "<class 'int'>\n",
            "<class 'int'>\n"
          ]
        }
      ]
    },
    {
      "cell_type": "code",
      "source": [
        "#También podemos usar números de índice negativos. Vamos a usar la misma tabla de arriba con su correspondiente valor negativo:\n",
        "#Obtenemos el ultimo elemento de la siguiente forma (en esta ocasión no usaremos la sentencia print para mostrar los valores en pantalla):\n",
        "#Usar un valor negativo en el índice para obtener el valor del último element\n",
        "tuple1[-1]\n",
        "print(tuple1[-1])\n",
        "print(tuple1[-2])\n"
      ],
      "metadata": {
        "colab": {
          "base_uri": "https://localhost:8080/"
        },
        "id": "cgBKrpj8ijhK",
        "outputId": "d5661a67-0844-468e-fb74-92b0b03429b9"
      },
      "execution_count": null,
      "outputs": [
        {
          "output_type": "stream",
          "name": "stdout",
          "text": [
            "3\n",
            "2\n"
          ]
        }
      ]
    },
    {
      "cell_type": "markdown",
      "source": [
        "CONTATENACIÓN DE TUPLAS"
      ],
      "metadata": {
        "id": "imOnvHMVjdM2"
      }
    },
    {
      "cell_type": "code",
      "source": [
        "#Podemos concatenar o combinar tuplas utilizando el signo +:\n",
        "tuple2 = tuple1 + (\"hard rock\", 10)\n",
        "tuple2"
      ],
      "metadata": {
        "colab": {
          "base_uri": "https://localhost:8080/"
        },
        "id": "dxO8mgA2jVVw",
        "outputId": "7a3a3268-d17c-46eb-cf7a-d4b825845e31"
      },
      "execution_count": null,
      "outputs": [
        {
          "output_type": "execute_result",
          "data": {
            "text/plain": [
              "(1, 2, 3, 'hard rock', 10)"
            ]
          },
          "metadata": {},
          "execution_count": 16
        }
      ]
    },
    {
      "cell_type": "markdown",
      "source": [
        "Slicing (Sublistas)"
      ],
      "metadata": {
        "id": "KZQPEIx-j9yJ"
      }
    },
    {
      "cell_type": "code",
      "source": [
        "tuple2[0:3]\n",
        "tuple2[3:5]"
      ],
      "metadata": {
        "colab": {
          "base_uri": "https://localhost:8080/"
        },
        "id": "p8jL020Cj-uR",
        "outputId": "a7f467c5-8f39-4dd1-eb47-319a18939c29"
      },
      "execution_count": null,
      "outputs": [
        {
          "output_type": "execute_result",
          "data": {
            "text/plain": [
              "('hard rock', 10)"
            ]
          },
          "metadata": {},
          "execution_count": 20
        }
      ]
    },
    {
      "cell_type": "code",
      "source": [
        "#obtener la longitud de una tupla\n",
        "len(tuple2)"
      ],
      "metadata": {
        "colab": {
          "base_uri": "https://localhost:8080/"
        },
        "id": "Uk2-u1OSkUYp",
        "outputId": "8a07e6b5-bed8-4ee2-8941-15e74ae3c80b"
      },
      "execution_count": null,
      "outputs": [
        {
          "output_type": "execute_result",
          "data": {
            "text/plain": [
              "5"
            ]
          },
          "metadata": {},
          "execution_count": 21
        }
      ]
    },
    {
      "cell_type": "markdown",
      "source": [
        "Ordenamiento"
      ],
      "metadata": {
        "id": "-3_7JCtWkkW-"
      }
    },
    {
      "cell_type": "code",
      "source": [
        "#considere la siguiete tupla\n",
        "Ratings = (0, 9, 6, 5, 10, 8, 9, 6, 2)\n",
        "#Podemos ordenar los valores en la tupla y guardarlos en una nueva:\n",
        "RatingsSorted= sorted(Ratings)\n",
        "RatingsSorted"
      ],
      "metadata": {
        "colab": {
          "base_uri": "https://localhost:8080/"
        },
        "id": "3emnljNkklWP",
        "outputId": "071c4a2a-45e7-495e-dbe2-9d41d4d61774"
      },
      "execution_count": null,
      "outputs": [
        {
          "output_type": "execute_result",
          "data": {
            "text/plain": [
              "[0, 2, 5, 6, 6, 8, 9, 9, 10]"
            ]
          },
          "metadata": {},
          "execution_count": 23
        }
      ]
    },
    {
      "cell_type": "markdown",
      "source": [
        "TUPLA ANIDADA"
      ],
      "metadata": {
        "id": "yAuH-cFfoM1G"
      }
    },
    {
      "cell_type": "code",
      "source": [
        "Nested = (1, 2, (\"pop\", \"rock\"), (3,4), (\"disco\",(1,2)))\n",
        "#imprirmir cada elemento de cada indice\n",
        "print(\"Elemento 0 de la tupla: \", Nested[0])\n",
        "print(\"Elemento 1 de la tupla: \", Nested[1])\n",
        "print(\"Elemento 2 de la tupla: \", Nested[2])\n",
        "print(\"Elemento 3 de la tupla: \", Nested[3])\n",
        "print(\"Elemento 4 de la tupla: \", Nested[4])\n"
      ],
      "metadata": {
        "colab": {
          "base_uri": "https://localhost:8080/"
        },
        "id": "CUahsx9voKLg",
        "outputId": "83e3da6c-1ca0-49fb-dc93-dda398eac23c"
      },
      "execution_count": null,
      "outputs": [
        {
          "output_type": "stream",
          "name": "stdout",
          "text": [
            "Elemento 0 de la tupla:  1\n",
            "Elemento 1 de la tupla:  2\n",
            "Elemento 2 de la tupla:  ('pop', 'rock')\n",
            "Elemento 3 de la tupla:  (3, 4)\n",
            "Elemento 4 de la tupla:  ('disco', (1, 2))\n"
          ]
        }
      ]
    },
    {
      "cell_type": "code",
      "source": [
        "#Podemos usar un segundo índice para acceder otras tuplas como se muestra en la siguiente imagen:\n",
        "print(Nested[2][0])\n",
        "print(Nested[2][1])\n",
        "print(Nested[4][1][1])"
      ],
      "metadata": {
        "colab": {
          "base_uri": "https://localhost:8080/"
        },
        "id": "UvNxjjZQpWFI",
        "outputId": "4dcfa99e-754a-4eba-c995-685e56fd6d43"
      },
      "execution_count": null,
      "outputs": [
        {
          "output_type": "stream",
          "name": "stdout",
          "text": [
            "pop\n",
            "rock\n",
            "2\n"
          ]
        }
      ]
    },
    {
      "cell_type": "markdown",
      "source": [
        "LAB 3 ***LISTAS***"
      ],
      "metadata": {
        "id": "t1uWxIP0ic5U"
      }
    },
    {
      "cell_type": "code",
      "source": [
        "#INDEXACIÓN\n",
        "#Para crear una lista, se escribe cada elemento dentro de [ ], separado cada uno por comas. ¡Vamos a probar\n",
        "L = [\"Andres Useche \", 10.1, 1982, \"MJ\", 1]\n",
        "L"
      ],
      "metadata": {
        "colab": {
          "base_uri": "https://localhost:8080/"
        },
        "id": "uwpI3Rv1ihcQ",
        "outputId": "3d03365f-d77f-471b-93cd-0d4000c92437"
      },
      "execution_count": null,
      "outputs": [
        {
          "output_type": "execute_result",
          "data": {
            "text/plain": [
              "['Andres Useche ', 10.1, 1982, 'MJ', 1]"
            ]
          },
          "metadata": {},
          "execution_count": 11
        }
      ]
    },
    {
      "cell_type": "code",
      "source": [
        "#Podemos usar en una lista la indexación regular o negativa:\n",
        "print('the same element using negative and positive indexing:\\n Postive: ', L[0], \"\\n negative: \", L[-3])\n",
        "print('the same element using negative and positive indexing:\\n Postive: ', L[1], \"\\n negative: \", L[-2])\n",
        "print('the same element using negative and positive indexing:\\n Postive: ', L[2], \"\\n negative: \", L[-1])"
      ],
      "metadata": {
        "colab": {
          "base_uri": "https://localhost:8080/"
        },
        "id": "E1uVYl3Wi_Tn",
        "outputId": "fdaa4716-0129-40d5-f793-9bb05e318141"
      },
      "execution_count": null,
      "outputs": [
        {
          "output_type": "stream",
          "name": "stdout",
          "text": [
            "the same element using negative and positive indexing:\n",
            " Postive:  Andres Useche  \n",
            " negative:  Andres Useche \n",
            "the same element using negative and positive indexing:\n",
            " Postive:  10.1 \n",
            " negative:  10.1\n",
            "the same element using negative and positive indexing:\n",
            " Postive:  1982 \n",
            " negative:  1982\n"
          ]
        }
      ]
    },
    {
      "cell_type": "code",
      "source": [
        "#CONTENIDO DE LA LISTA\n",
        "#pUEDE SER UNA LISTA ANIDADA\n",
        "\n",
        "M= [\"Michael Jakson\", 10.1, 1982, [1, 2], (\"A\",1)]\n",
        "M\n",
        "M[3][1]"
      ],
      "metadata": {
        "colab": {
          "base_uri": "https://localhost:8080/"
        },
        "id": "ZMrM6Wn5kB_s",
        "outputId": "99e5868a-dba5-4975-fb86-085c084f2bb0"
      },
      "execution_count": null,
      "outputs": [
        {
          "output_type": "execute_result",
          "data": {
            "text/plain": [
              "2"
            ]
          },
          "metadata": {},
          "execution_count": 12
        }
      ]
    },
    {
      "cell_type": "code",
      "source": [
        "#También podemos aplicar el slicing en las listas. Por ejemplo, si queremos obtener los últimos dos elementos, usamos el siguiente comando\n",
        "L[3:5]"
      ],
      "metadata": {
        "colab": {
          "base_uri": "https://localhost:8080/"
        },
        "id": "plLS2Rg88X3j",
        "outputId": "59ee846f-816b-4d15-d9c7-63f5037b27f9"
      },
      "execution_count": null,
      "outputs": [
        {
          "output_type": "execute_result",
          "data": {
            "text/plain": [
              "['MJ', 1]"
            ]
          },
          "metadata": {},
          "execution_count": 13
        }
      ]
    },
    {
      "cell_type": "code",
      "source": [
        "#Podemos usar el metodo extend para añadir elementos a la lista\n",
        "L.extend(['pop',10])\n",
        "L"
      ],
      "metadata": {
        "colab": {
          "base_uri": "https://localhost:8080/"
        },
        "id": "joia0pcI9jzI",
        "outputId": "1dd00e42-9181-487e-96ce-8f22ad8283ef"
      },
      "execution_count": null,
      "outputs": [
        {
          "output_type": "execute_result",
          "data": {
            "text/plain": [
              "['Andres Useche ', 10.1, 1982, 'MJ', 1, 'pop', 10, 'pop', 10]"
            ]
          },
          "metadata": {},
          "execution_count": 15
        }
      ]
    },
    {
      "cell_type": "code",
      "source": [
        "#Otro método similar es append. Si usamos append en vez de extend, añadimos un elemento a a la lista:\n",
        "L= [\"Andres Useche \", 10.1]\n",
        "L.append(['pop',10])\n",
        "L"
      ],
      "metadata": {
        "colab": {
          "base_uri": "https://localhost:8080/"
        },
        "id": "-Kky5Zk5-ZFC",
        "outputId": "76dfef7f-81af-419d-9b05-00c0733ee1d6"
      },
      "execution_count": null,
      "outputs": [
        {
          "output_type": "execute_result",
          "data": {
            "text/plain": [
              "['Andres Useche ', 10.1, ['pop', 10]]"
            ]
          },
          "metadata": {},
          "execution_count": 18
        }
      ]
    },
    {
      "cell_type": "code",
      "source": [
        "#cambier elemento de la lista usando los indices\n",
        "A = [\"dsico\", 10, 1.2]\n",
        "print(\"before change: \", A)\n",
        "A[0] = 'hard rock'\n",
        "print(\"after change: \", A)\n"
      ],
      "metadata": {
        "colab": {
          "base_uri": "https://localhost:8080/"
        },
        "id": "qgFlPUCvHOGq",
        "outputId": "bb7fc10d-5373-4f4d-b178-6b66678df1d9"
      },
      "execution_count": null,
      "outputs": [
        {
          "output_type": "stream",
          "name": "stdout",
          "text": [
            "before change:  ['dsico', 10, 1.2]\n",
            "after change:  ['hard rock', 10, 1.2]\n"
          ]
        }
      ]
    },
    {
      "cell_type": "code",
      "source": [
        "#BORRAR EL ELEMENTO USANDO EL INDICE\n",
        "A = [\"dsico\", 10, 1.2]\n",
        "print(\"before change: \", A)\n",
        "del(A[0])# Si se elimina se pierde para siempre\n",
        "print(\"after change: \", A)"
      ],
      "metadata": {
        "colab": {
          "base_uri": "https://localhost:8080/"
        },
        "id": "a6-aoWv5G2x9",
        "outputId": "ee1b6fb8-0441-4b23-9312-8285f76e1ff7"
      },
      "execution_count": null,
      "outputs": [
        {
          "output_type": "stream",
          "name": "stdout",
          "text": [
            "before change:  ['dsico', 10, 1.2]\n",
            "after change:  [10, 1.2]\n"
          ]
        }
      ]
    },
    {
      "cell_type": "code",
      "source": [
        "#Podemos transformar una cadena en una lista con split. Por ejemplo, el método split convierte cada grupo de caracteres separados por un espacio en blanco, en un elemento de la lista:\n",
        "'hard roxk'.split()"
      ],
      "metadata": {
        "colab": {
          "base_uri": "https://localhost:8080/"
        },
        "id": "SiSEnOH7IXyQ",
        "outputId": "91dc4e23-babe-4fbb-b577-db5c22f736e9"
      },
      "execution_count": null,
      "outputs": [
        {
          "output_type": "execute_result",
          "data": {
            "text/plain": [
              "['hard', 'roxk']"
            ]
          },
          "metadata": {},
          "execution_count": 29
        }
      ]
    },
    {
      "cell_type": "code",
      "source": [
        "#Podemos utilizar la función split para separar distintas cadenas usando algún carácter especifico\n",
        "'A,B,C,D'.split(',')"
      ],
      "metadata": {
        "colab": {
          "base_uri": "https://localhost:8080/"
        },
        "id": "ng-fTkbrI2HZ",
        "outputId": "1378efcd-ac6f-47fe-da26-e170060a6490"
      },
      "execution_count": null,
      "outputs": [
        {
          "output_type": "execute_result",
          "data": {
            "text/plain": [
              "['A', 'B', 'C', 'D']"
            ]
          },
          "metadata": {},
          "execution_count": 30
        }
      ]
    },
    {
      "cell_type": "markdown",
      "source": [
        "COPIANDO Y CLONACION DE LISTAS"
      ],
      "metadata": {
        "id": "ilEOGiohJHmv"
      }
    },
    {
      "cell_type": "code",
      "source": [
        "#Cuando asignamos el valor de la variable B igual a A; ambas están haciendo referencia a la misma lista guardada en memoria:\n",
        "A= [\"hard rock\", 10, 1.2]\n",
        "B=A\n",
        "print ('A: ', A)\n",
        "print('B: ', B)"
      ],
      "metadata": {
        "colab": {
          "base_uri": "https://localhost:8080/"
        },
        "id": "oASSuXhZJKkc",
        "outputId": "b9cff52f-e164-40e0-fa81-c07308a37143"
      },
      "execution_count": null,
      "outputs": [
        {
          "output_type": "stream",
          "name": "stdout",
          "text": [
            "A:  ['hard rock', 10, 1.2]\n",
            "B:  ['hard rock', 10, 1.2]\n"
          ]
        }
      ]
    },
    {
      "cell_type": "code",
      "source": [
        "# Examinar la copia hecha por referencia\n",
        "# como es por referencia si una variable cambia la lista, tambien cambia en la otra\n",
        "print('B[0]:', B[0])\n",
        "A[0] = \"banana\"\n",
        "print('B[0]:', B[0])"
      ],
      "metadata": {
        "colab": {
          "base_uri": "https://localhost:8080/"
        },
        "id": "LY6w0f6tJkKc",
        "outputId": "a9855896-1c8c-42ca-8f76-0839a1897bdc"
      },
      "execution_count": null,
      "outputs": [
        {
          "output_type": "stream",
          "name": "stdout",
          "text": [
            "B[0]: hard rock\n",
            "B[0]: banana\n"
          ]
        }
      ]
    },
    {
      "cell_type": "code",
      "source": [
        "#Se puede clonar la lista A haciendo uso de la siguiente sintaxis:\n",
        "B=A[:]\n",
        "B"
      ],
      "metadata": {
        "colab": {
          "base_uri": "https://localhost:8080/"
        },
        "id": "6T9e2DZnJyfP",
        "outputId": "27bb0710-07ad-49ba-8794-772acaa20034"
      },
      "execution_count": null,
      "outputs": [
        {
          "output_type": "execute_result",
          "data": {
            "text/plain": [
              "['banana', 10, 1.2]"
            ]
          },
          "metadata": {},
          "execution_count": 34
        }
      ]
    },
    {
      "cell_type": "code",
      "source": [
        "#Ahora cualquier cambio en A, no será aplicado a B:\n",
        "print('B[0]', B[0])\n",
        "A[0]= \"HARD ROCK\"\n",
        "print ('B[0]', B[0])\n",
        "print (A[0])"
      ],
      "metadata": {
        "colab": {
          "base_uri": "https://localhost:8080/"
        },
        "id": "vb09CrR5J94u",
        "outputId": "c9672b40-abb5-4703-ad62-f4cefa22e308"
      },
      "execution_count": null,
      "outputs": [
        {
          "output_type": "stream",
          "name": "stdout",
          "text": [
            "B[0] banana\n",
            "B[0] banana\n",
            "HARD ROCK\n"
          ]
        }
      ]
    },
    {
      "cell_type": "markdown",
      "source": [
        "LAB 4 ***CONJUNTOS***"
      ],
      "metadata": {
        "id": "56gwmHHZt46M"
      }
    },
    {
      "cell_type": "code",
      "source": [
        "#Un conjunto es una colección de objetos únicos en Python\n",
        "#Un conjunto se define usando llaves de apertura y cierre {}. Python removerá automáticamente elementos duplicados.\n",
        "\n",
        "set1 = {\"pop\", \"rock\", \"soul\", \"hard rock\", \"rock\", \"R&B\", \"rock\", \"disco\"}\n",
        "set1"
      ],
      "metadata": {
        "colab": {
          "base_uri": "https://localhost:8080/"
        },
        "id": "twiTtrifuBpd",
        "outputId": "d149a0fc-2bde-443c-dee3-1db48bf19abf"
      },
      "execution_count": null,
      "outputs": [
        {
          "output_type": "execute_result",
          "data": {
            "text/plain": [
              "{'R&B', 'disco', 'hard rock', 'pop', 'rock', 'soul'}"
            ]
          },
          "metadata": {},
          "execution_count": 1
        }
      ]
    },
    {
      "cell_type": "code",
      "source": [
        "#Tambienn  se puede crear un conjunto a partir de una lista\n",
        "album_list = [\"Michael Jackson\", \"Thriller\", 1982, \"00:42:19\", \"pop, rock, ref\",\\\n",
        "              46.0, 65, \"30-Nov-82\", None, 10.0]\n",
        "album_set= set(album_list)\n",
        "album_set"
      ],
      "metadata": {
        "colab": {
          "base_uri": "https://localhost:8080/"
        },
        "id": "-tZqtqN3ul9C",
        "outputId": "4375781c-e29c-4ca9-87e0-a4f3e614c694"
      },
      "execution_count": null,
      "outputs": [
        {
          "output_type": "execute_result",
          "data": {
            "text/plain": [
              "{'00:42:19',\n",
              " 10.0,\n",
              " 1982,\n",
              " '30-Nov-82',\n",
              " 46.0,\n",
              " 65,\n",
              " 'Michael Jackson',\n",
              " None,\n",
              " 'Thriller',\n",
              " 'pop, rock, ref'}"
            ]
          },
          "metadata": {},
          "execution_count": 3
        }
      ]
    },
    {
      "cell_type": "code",
      "source": [
        "music_genres = set([\"pop\", \"pop\", \"rock\", \"folk\", \"rock\", \"jazz\", \"sapk\"])\n",
        "music_genres"
      ],
      "metadata": {
        "colab": {
          "base_uri": "https://localhost:8080/"
        },
        "id": "bWQkFbZ6wD5d",
        "outputId": "3f58ca0b-58f5-4766-efa1-19e3de1dcbce"
      },
      "execution_count": null,
      "outputs": [
        {
          "output_type": "execute_result",
          "data": {
            "text/plain": [
              "{'folk', 'jazz', 'pop', 'rock', 'sapk'}"
            ]
          },
          "metadata": {},
          "execution_count": 4
        }
      ]
    },
    {
      "cell_type": "markdown",
      "source": [
        "operaciones con conjuntos"
      ],
      "metadata": {
        "id": "zsFDRfTtweeh"
      }
    },
    {
      "cell_type": "code",
      "source": [
        "A = set([\"Thriller\", \"Back in Black\", \"AC/DC\"])\n",
        "A"
      ],
      "metadata": {
        "colab": {
          "base_uri": "https://localhost:8080/"
        },
        "id": "zysRDyhrwgkZ",
        "outputId": "d7c48f12-4ef7-4062-e70c-0652d6ccbaa6"
      },
      "execution_count": null,
      "outputs": [
        {
          "output_type": "execute_result",
          "data": {
            "text/plain": [
              "{'AC/DC', 'Back in Black', 'Thriller'}"
            ]
          },
          "metadata": {},
          "execution_count": 5
        }
      ]
    },
    {
      "cell_type": "code",
      "source": [
        "#podemos agregar un elemento al conjunto con add()\n",
        "A.add(\"NSYNC\")\n",
        "A"
      ],
      "metadata": {
        "colab": {
          "base_uri": "https://localhost:8080/"
        },
        "id": "XMl6U-FUws_i",
        "outputId": "e7034ade-84c9-41ab-d51d-5bdf8a0c8610"
      },
      "execution_count": null,
      "outputs": [
        {
          "output_type": "execute_result",
          "data": {
            "text/plain": [
              "{'AC/DC', 'Back in Black', 'NSYNC', 'Thriller'}"
            ]
          },
          "metadata": {},
          "execution_count": 6
        }
      ]
    },
    {
      "cell_type": "code",
      "source": [
        "#Podemos remover un elemento del conjunto con remove\n",
        "A.remove(\"NSYNC\")\n",
        "A"
      ],
      "metadata": {
        "colab": {
          "base_uri": "https://localhost:8080/"
        },
        "id": "DAsR4B2txDsO",
        "outputId": "8320220e-0b5e-4000-958c-27fe0d9f11bd"
      },
      "execution_count": null,
      "outputs": [
        {
          "output_type": "execute_result",
          "data": {
            "text/plain": [
              "{'AC/DC', 'Back in Black', 'Thriller'}"
            ]
          },
          "metadata": {},
          "execution_count": 7
        }
      ]
    },
    {
      "cell_type": "code",
      "source": [
        "#Podemos verificar si existe un elemento especifico dentro del conjunto con el comando in:\n",
        "\"AC/DC\" in A"
      ],
      "metadata": {
        "colab": {
          "base_uri": "https://localhost:8080/"
        },
        "id": "pxsIIKNJxXS9",
        "outputId": "2389d9ea-1cf3-42ec-de1d-c4b818d54c28"
      },
      "execution_count": null,
      "outputs": [
        {
          "output_type": "execute_result",
          "data": {
            "text/plain": [
              "True"
            ]
          },
          "metadata": {},
          "execution_count": 8
        }
      ]
    },
    {
      "cell_type": "markdown",
      "source": [
        "OPERACIONES LOGICAS CON CONJUNTOS"
      ],
      "metadata": {
        "id": "0l-bCPsrxwGZ"
      }
    },
    {
      "cell_type": "code",
      "source": [
        "album_set1 = set([\"Thriller\", \"AC/DC\", \"Back in Black\"])\n",
        "album_set2 = set([\"AC/DC\", \"Back in Black\", \"The Dark Side of the Moon\"])"
      ],
      "metadata": {
        "id": "d_EWNvF4xxT2"
      },
      "execution_count": null,
      "outputs": []
    },
    {
      "cell_type": "code",
      "source": [
        "#imprimir dos conjuntos\n",
        "\n",
        "album_set1, album_set2"
      ],
      "metadata": {
        "colab": {
          "base_uri": "https://localhost:8080/"
        },
        "id": "o45KBCB5x9Xz",
        "outputId": "7efd9345-76fd-44dd-8c7f-bc5305e58061"
      },
      "execution_count": null,
      "outputs": [
        {
          "output_type": "execute_result",
          "data": {
            "text/plain": [
              "({'AC/DC', 'Back in Black', 'Thriller'},\n",
              " {'AC/DC', 'Back in Black', 'The Dark Side of the Moon'})"
            ]
          },
          "metadata": {},
          "execution_count": 10
        }
      ]
    },
    {
      "cell_type": "code",
      "source": [
        "#Podemos mostrar los elementos en comun de los dos conjuntos usando &\n",
        "intersection = album_set1 & album_set2\n",
        "intersection"
      ],
      "metadata": {
        "colab": {
          "base_uri": "https://localhost:8080/"
        },
        "id": "QzMU8IOLyDhZ",
        "outputId": "d4735970-4b20-4a0b-8c26-3c18f41f90e8"
      },
      "execution_count": null,
      "outputs": [
        {
          "output_type": "execute_result",
          "data": {
            "text/plain": [
              "{'AC/DC', 'Back in Black'}"
            ]
          },
          "metadata": {},
          "execution_count": 11
        }
      ]
    },
    {
      "cell_type": "code",
      "source": [
        "#podemos encontar los elemtos que tenga un conjunto y el otro no con el metodo difference\n",
        "album_set1.difference(album_set2)"
      ],
      "metadata": {
        "colab": {
          "base_uri": "https://localhost:8080/"
        },
        "id": "npQozIWuyWuR",
        "outputId": "30ca1595-0005-487e-ea3c-b109816490cc"
      },
      "execution_count": null,
      "outputs": [
        {
          "output_type": "execute_result",
          "data": {
            "text/plain": [
              "{'Thriller'}"
            ]
          },
          "metadata": {},
          "execution_count": 12
        }
      ]
    },
    {
      "cell_type": "code",
      "source": [
        "album_set2.difference(album_set1)"
      ],
      "metadata": {
        "colab": {
          "base_uri": "https://localhost:8080/"
        },
        "id": "BmW0sOJYysVY",
        "outputId": "7be9ac37-f31b-46f2-c115-149206c70d31"
      },
      "execution_count": null,
      "outputs": [
        {
          "output_type": "execute_result",
          "data": {
            "text/plain": [
              "{'The Dark Side of the Moon'}"
            ]
          },
          "metadata": {},
          "execution_count": 13
        }
      ]
    },
    {
      "cell_type": "code",
      "source": [
        "#Puedes encontrar la intersección de album_list1 y album_list2 con el método intersection:\n",
        "album_set1.intersection(album_set2)"
      ],
      "metadata": {
        "colab": {
          "base_uri": "https://localhost:8080/"
        },
        "id": "Nt6T8V4Yy0oT",
        "outputId": "59c05b91-1329-438d-8ce0-0fe2594288de"
      },
      "execution_count": null,
      "outputs": [
        {
          "output_type": "execute_result",
          "data": {
            "text/plain": [
              "{'AC/DC', 'Back in Black'}"
            ]
          },
          "metadata": {},
          "execution_count": 15
        }
      ]
    },
    {
      "cell_type": "code",
      "source": [
        "#Puedes encontrar la intersección de album_list1 y album_list2 con el método intersection:\n",
        "album_set1.union(album_set2)"
      ],
      "metadata": {
        "colab": {
          "base_uri": "https://localhost:8080/"
        },
        "id": "8p7hEwcSzDcA",
        "outputId": "f3322e93-83cd-4440-c25f-d02bf0afe109"
      },
      "execution_count": null,
      "outputs": [
        {
          "output_type": "execute_result",
          "data": {
            "text/plain": [
              "{'AC/DC', 'Back in Black', 'The Dark Side of the Moon', 'Thriller'}"
            ]
          },
          "metadata": {},
          "execution_count": 16
        }
      ]
    },
    {
      "cell_type": "code",
      "source": [
        "#Se puede averiguar si un conjunto es un súper conjunto o un sub conjunto de otro, respectivamente, de la siguiente forma:\n",
        "set(album_set1).issuperset(album_set2)\n"
      ],
      "metadata": {
        "colab": {
          "base_uri": "https://localhost:8080/"
        },
        "id": "PXAdI76fzRL1",
        "outputId": "74f26e68-7e7d-41ac-9241-baa68535a8a0"
      },
      "execution_count": null,
      "outputs": [
        {
          "output_type": "execute_result",
          "data": {
            "text/plain": [
              "False"
            ]
          },
          "metadata": {},
          "execution_count": 18
        }
      ]
    },
    {
      "cell_type": "code",
      "source": [
        "#revisar si es un subconjunto\n",
        "set(album_set2).issubset(album_set1)"
      ],
      "metadata": {
        "colab": {
          "base_uri": "https://localhost:8080/"
        },
        "id": "nX_I3jBnzla8",
        "outputId": "bad1f20c-8872-4f7b-c838-186a3d089a66"
      },
      "execution_count": null,
      "outputs": [
        {
          "output_type": "execute_result",
          "data": {
            "text/plain": [
              "False"
            ]
          },
          "metadata": {},
          "execution_count": 21
        }
      ]
    },
    {
      "cell_type": "code",
      "source": [
        "#Este es un ejemplo donde issubset() y issuperset() regresan un valor verdadero:\n",
        "set({\"Back in Black\", \"AC/DC\"}).issubset(album_set1)"
      ],
      "metadata": {
        "colab": {
          "base_uri": "https://localhost:8080/"
        },
        "id": "QJqSj0Jlz53I",
        "outputId": "5ac073f1-86ff-4561-d526-0526fe973559"
      },
      "execution_count": null,
      "outputs": [
        {
          "output_type": "execute_result",
          "data": {
            "text/plain": [
              "True"
            ]
          },
          "metadata": {},
          "execution_count": 24
        }
      ]
    },
    {
      "cell_type": "code",
      "source": [
        "album_set1.issuperset({\"Back in Black\", \"AC/DC\"})"
      ],
      "metadata": {
        "colab": {
          "base_uri": "https://localhost:8080/"
        },
        "id": "YgbO_pv90moX",
        "outputId": "f62856f9-de63-40fb-ae2f-2ee8d9761902"
      },
      "execution_count": null,
      "outputs": [
        {
          "output_type": "execute_result",
          "data": {
            "text/plain": [
              "True"
            ]
          },
          "metadata": {},
          "execution_count": 26
        }
      ]
    },
    {
      "cell_type": "markdown",
      "source": [
        "LAB 5 ***Diccionarios***"
      ],
      "metadata": {
        "id": "D0pHQq5vCgjC"
      }
    },
    {
      "cell_type": "code",
      "source": [
        "#Un diccionario esta conformado por llaves y valores. Un diccionario puede compararse a una lista. En vez de índices numéricos como los de las listas, los diccionarios tienen llaves. Estas llaves son usadas para acceder a los valores dentro de los diccionarios\n",
        "Dict = {\"key1\": 1, \"key2\": \"2\", \"key3\": [3, 3, 3], \"key4\": (4, 4, 4), ('key5'): 5, (0, 1): 6}\n",
        "Dict"
      ],
      "metadata": {
        "colab": {
          "base_uri": "https://localhost:8080/"
        },
        "id": "a-zMK_AYCrVv",
        "outputId": "e9c10164-aa07-4096-b05c-e2bfef014be7"
      },
      "execution_count": null,
      "outputs": [
        {
          "output_type": "execute_result",
          "data": {
            "text/plain": [
              "{'key1': 1,\n",
              " 'key2': '2',\n",
              " 'key3': [3, 3, 3],\n",
              " 'key4': (4, 4, 4),\n",
              " 'key5': 5,\n",
              " (0, 1): 6}"
            ]
          },
          "metadata": {},
          "execution_count": 27
        }
      ]
    },
    {
      "cell_type": "code",
      "source": [
        "## Acceder a un valor mediante una llave\n",
        "Dict[\"key1\"]"
      ],
      "metadata": {
        "colab": {
          "base_uri": "https://localhost:8080/"
        },
        "id": "F57RqJZiCxMy",
        "outputId": "700ddb76-90c7-41a4-900d-6f65f5e74ba0"
      },
      "execution_count": null,
      "outputs": [
        {
          "output_type": "execute_result",
          "data": {
            "text/plain": [
              "1"
            ]
          },
          "metadata": {},
          "execution_count": 28
        }
      ]
    },
    {
      "cell_type": "code",
      "source": [
        "# Acceder a un valor mediante una llave\n",
        "Dict[(0,1)]"
      ],
      "metadata": {
        "colab": {
          "base_uri": "https://localhost:8080/"
        },
        "id": "iXwHxFIECyIh",
        "outputId": "d8b08d73-877a-45c6-cb6a-4ba430755c14"
      },
      "execution_count": null,
      "outputs": [
        {
          "output_type": "execute_result",
          "data": {
            "text/plain": [
              "6"
            ]
          },
          "metadata": {},
          "execution_count": 29
        }
      ]
    },
    {
      "cell_type": "code",
      "source": [
        "#Un diccionario vacío se representa escribiendo solo dos llaves, de esta forma \"{}\".\n",
        "## Crear un ejemplo de diccionario\n",
        "release_year_dict  = {\"Thriller\": \"1982\", \"Back in Black\": \"1980\", \\\n",
        "                      \"The Dark Side of the Moon\": \"1973\", \"The Bodyguard\": \"1992\", \\\n",
        "                      \"Bat Out of Hell\": \"1977\", \"Their Greatest Hits (1971-1975)\": \"1976\", \\\n",
        "                      \"Saturday Night Fever\": \"1977\", \"Rumours\": \"1977\"}\n",
        "release_year_dict"
      ],
      "metadata": {
        "colab": {
          "base_uri": "https://localhost:8080/"
        },
        "id": "2uwGhCamC6et",
        "outputId": "3f124a15-09e5-475a-a56f-2ad5883c9f2b"
      },
      "execution_count": null,
      "outputs": [
        {
          "output_type": "execute_result",
          "data": {
            "text/plain": [
              "{'Thriller': '1982',\n",
              " 'Back in Black': '1980',\n",
              " 'The Dark Side of the Moon': '1973',\n",
              " 'The Bodyguard': '1992',\n",
              " 'Bat Out of Hell': '1977',\n",
              " 'Their Greatest Hits (1971-1975)': '1976',\n",
              " 'Saturday Night Fever': '1977',\n",
              " 'Rumours': '1977'}"
            ]
          },
          "metadata": {},
          "execution_count": 30
        }
      ]
    },
    {
      "cell_type": "code",
      "source": [
        "release_year_dict[\"Thriller\"]"
      ],
      "metadata": {
        "colab": {
          "base_uri": "https://localhost:8080/",
          "height": 36
        },
        "id": "SF0pJAFMC7lH",
        "outputId": "bc93c988-8d54-41f0-8835-255d2713f362"
      },
      "execution_count": null,
      "outputs": [
        {
          "output_type": "execute_result",
          "data": {
            "text/plain": [
              "'1982'"
            ],
            "application/vnd.google.colaboratory.intrinsic+json": {
              "type": "string"
            }
          },
          "metadata": {},
          "execution_count": 31
        }
      ]
    },
    {
      "cell_type": "code",
      "source": [
        "#Ahora vamos a recuperar las llaves del diccionario mediante el método keys():\n",
        "release_year_dict.keys()"
      ],
      "metadata": {
        "colab": {
          "base_uri": "https://localhost:8080/"
        },
        "id": "ha9_6C87DAJG",
        "outputId": "6b54b0e1-5fb5-49a4-975d-5fe953c2c069"
      },
      "execution_count": null,
      "outputs": [
        {
          "output_type": "execute_result",
          "data": {
            "text/plain": [
              "dict_keys(['Thriller', 'Back in Black', 'The Dark Side of the Moon', 'The Bodyguard', 'Bat Out of Hell', 'Their Greatest Hits (1971-1975)', 'Saturday Night Fever', 'Rumours'])"
            ]
          },
          "metadata": {},
          "execution_count": 32
        }
      ]
    },
    {
      "cell_type": "code",
      "source": [
        "#Se puede obtener los valores mediante el método values():\n",
        "release_year_dict.values()"
      ],
      "metadata": {
        "colab": {
          "base_uri": "https://localhost:8080/"
        },
        "id": "YGvh6ZK8DLNN",
        "outputId": "a8ad6ef7-fa02-445c-f80c-47873e1cfcb1"
      },
      "execution_count": null,
      "outputs": [
        {
          "output_type": "execute_result",
          "data": {
            "text/plain": [
              "dict_values(['1982', '1980', '1973', '1992', '1977', '1976', '1977', '1977'])"
            ]
          },
          "metadata": {},
          "execution_count": 33
        }
      ]
    },
    {
      "cell_type": "code",
      "source": [
        "#agreagar un valor con su llave al diccionario\n",
        "release_year_dict[\"graduatrion\"] = \"2007\"\n",
        "release_year_dict"
      ],
      "metadata": {
        "colab": {
          "base_uri": "https://localhost:8080/"
        },
        "id": "WVKFkqzrDOvj",
        "outputId": "b9eda74a-d3c2-4234-a4bf-d04286ad744f"
      },
      "execution_count": null,
      "outputs": [
        {
          "output_type": "execute_result",
          "data": {
            "text/plain": [
              "{'Thriller': '1982',\n",
              " 'Back in Black': '1980',\n",
              " 'The Dark Side of the Moon': '1973',\n",
              " 'The Bodyguard': '1992',\n",
              " 'Bat Out of Hell': '1977',\n",
              " 'Their Greatest Hits (1971-1975)': '1976',\n",
              " 'Saturday Night Fever': '1977',\n",
              " 'Rumours': '1977',\n",
              " 'graduatrion': '2007'}"
            ]
          },
          "metadata": {},
          "execution_count": 34
        }
      ]
    },
    {
      "cell_type": "code",
      "source": [
        "#borrar entradas mediante la llave\n",
        "\n",
        "del(release_year_dict['Rumours'])\n",
        "release_year_dict"
      ],
      "metadata": {
        "colab": {
          "base_uri": "https://localhost:8080/"
        },
        "id": "gNu-fyCnDPll",
        "outputId": "8d8f1061-cc4e-4afb-85dc-6fd3ed5eacf0"
      },
      "execution_count": null,
      "outputs": [
        {
          "output_type": "execute_result",
          "data": {
            "text/plain": [
              "{'Thriller': '1982',\n",
              " 'Back in Black': '1980',\n",
              " 'The Dark Side of the Moon': '1973',\n",
              " 'The Bodyguard': '1992',\n",
              " 'Bat Out of Hell': '1977',\n",
              " 'Their Greatest Hits (1971-1975)': '1976',\n",
              " 'Saturday Night Fever': '1977',\n",
              " 'graduatrion': '2007'}"
            ]
          },
          "metadata": {},
          "execution_count": 35
        }
      ]
    },
    {
      "cell_type": "code",
      "source": [
        "#Podemos verificar si existe un elemento en el diccionario:\n",
        "\"The Bodyguard\" in release_year_dict"
      ],
      "metadata": {
        "colab": {
          "base_uri": "https://localhost:8080/"
        },
        "id": "o0zqwAfrDSop",
        "outputId": "509764d7-9b78-487b-f988-77e1dd3b7079"
      },
      "execution_count": null,
      "outputs": [
        {
          "output_type": "execute_result",
          "data": {
            "text/plain": [
              "True"
            ]
          },
          "metadata": {},
          "execution_count": 36
        }
      ]
    },
    {
      "cell_type": "markdown",
      "source": [
        "LAB 6 ***CONDICIONALES***"
      ],
      "metadata": {
        "id": "9g5oB3pjYLiW"
      }
    },
    {
      "cell_type": "code",
      "source": [
        "#Operadores de Comparación\n",
        "#igual: ==\n",
        "#diferente: !=\n",
        "#mayor que: >\n",
        "#menor que: <\n",
        "#mayor o igual a: >=\n",
        "#menor o igual a: <=\n"
      ],
      "metadata": {
        "id": "DiAMLzCjYQ1f"
      },
      "execution_count": null,
      "outputs": []
    },
    {
      "cell_type": "code",
      "source": [
        "A= 5\n",
        "A==6"
      ],
      "metadata": {
        "colab": {
          "base_uri": "https://localhost:8080/"
        },
        "id": "T79pBltMYmYa",
        "outputId": "05acda59-275e-44f6-cc32-4433b73af3c4"
      },
      "execution_count": null,
      "outputs": [
        {
          "output_type": "execute_result",
          "data": {
            "text/plain": [
              "False"
            ]
          },
          "metadata": {},
          "execution_count": 37
        }
      ]
    },
    {
      "cell_type": "code",
      "source": [
        "# Signo Mayor a\n",
        "i=6\n",
        "i>5"
      ],
      "metadata": {
        "colab": {
          "base_uri": "https://localhost:8080/"
        },
        "id": "S-4CzOcvY0KE",
        "outputId": "5f5ece8a-04ac-462f-eb0e-0c953c8d9204"
      },
      "execution_count": null,
      "outputs": [
        {
          "output_type": "execute_result",
          "data": {
            "text/plain": [
              "True"
            ]
          },
          "metadata": {},
          "execution_count": 38
        }
      ]
    },
    {
      "cell_type": "code",
      "source": [
        "i=2\n",
        "i>5"
      ],
      "metadata": {
        "colab": {
          "base_uri": "https://localhost:8080/"
        },
        "id": "Bi0QJ_wxZdkh",
        "outputId": "b524434a-8ac2-4bb9-a8cd-8b001bbfefa4"
      },
      "execution_count": null,
      "outputs": [
        {
          "output_type": "execute_result",
          "data": {
            "text/plain": [
              "False"
            ]
          },
          "metadata": {},
          "execution_count": 39
        }
      ]
    },
    {
      "cell_type": "code",
      "source": [
        "#signo de Desigualdad\n",
        "i=2\n",
        "i!=6"
      ],
      "metadata": {
        "colab": {
          "base_uri": "https://localhost:8080/"
        },
        "id": "RpzgM5EUZsve",
        "outputId": "f38c858e-2e7f-4ff3-ccd9-3f5eb7fc33f5"
      },
      "execution_count": null,
      "outputs": [
        {
          "output_type": "execute_result",
          "data": {
            "text/plain": [
              "True"
            ]
          },
          "metadata": {},
          "execution_count": 40
        }
      ]
    },
    {
      "cell_type": "code",
      "source": [
        "i=6\n",
        "i!=6"
      ],
      "metadata": {
        "colab": {
          "base_uri": "https://localhost:8080/"
        },
        "id": "VrtLjp6sZ1G_",
        "outputId": "c62e89fd-189e-4efd-a140-ed79765abc48"
      },
      "execution_count": null,
      "outputs": [
        {
          "output_type": "execute_result",
          "data": {
            "text/plain": [
              "False"
            ]
          },
          "metadata": {},
          "execution_count": 41
        }
      ]
    },
    {
      "cell_type": "code",
      "source": [
        "# Usar el operador de Igualdad para comparar las cadenas\n",
        "\"ABCD\"==\"ANDRES USECHE\""
      ],
      "metadata": {
        "colab": {
          "base_uri": "https://localhost:8080/"
        },
        "id": "nA8cR6nTaBWh",
        "outputId": "a8624660-733f-4b2b-becb-5238126074d6"
      },
      "execution_count": null,
      "outputs": [
        {
          "output_type": "execute_result",
          "data": {
            "text/plain": [
              "False"
            ]
          },
          "metadata": {},
          "execution_count": 42
        }
      ]
    },
    {
      "cell_type": "code",
      "source": [
        "# Usar el operador de Desigualdad para comparar las cadenas\n",
        "\"ABCD\"!=\"ANDRES USECHE\""
      ],
      "metadata": {
        "colab": {
          "base_uri": "https://localhost:8080/"
        },
        "id": "G4aMXVrmaHvL",
        "outputId": "628ccce3-8410-4760-c042-5c581f1bef02"
      },
      "execution_count": null,
      "outputs": [
        {
          "output_type": "execute_result",
          "data": {
            "text/plain": [
              "True"
            ]
          },
          "metadata": {},
          "execution_count": 43
        }
      ]
    },
    {
      "cell_type": "code",
      "source": [
        "#Por ejemplo, el código ASCII de ! es 21, mientras el código para + es 43. Por consiguiente + es mayor que ! ya que 43 es mayor a 21.\n",
        "\n",
        "#De igual forma, el valor ASCII de A es 101, y el valor para B es 102, entonces:\n",
        "\n",
        "\"B\"> \"A\""
      ],
      "metadata": {
        "colab": {
          "base_uri": "https://localhost:8080/"
        },
        "id": "ujSsFe-fak-_",
        "outputId": "817b3bbc-c78d-4c7e-f796-852a7ae85631"
      },
      "execution_count": null,
      "outputs": [
        {
          "output_type": "execute_result",
          "data": {
            "text/plain": [
              "True"
            ]
          },
          "metadata": {},
          "execution_count": 44
        }
      ]
    },
    {
      "cell_type": "code",
      "source": [
        "\"BA\"> \"AB\""
      ],
      "metadata": {
        "colab": {
          "base_uri": "https://localhost:8080/"
        },
        "id": "s3ZVixBSbyUx",
        "outputId": "4ed0067b-1c3c-4b47-865d-64dc97b9de6b"
      },
      "execution_count": null,
      "outputs": [
        {
          "output_type": "execute_result",
          "data": {
            "text/plain": [
              "True"
            ]
          },
          "metadata": {},
          "execution_count": 48
        }
      ]
    },
    {
      "cell_type": "markdown",
      "source": [
        "CONDICIONAL IF"
      ],
      "metadata": {
        "id": "_LV_ZsqucYlm"
      }
    },
    {
      "cell_type": "code",
      "source": [
        "#Ejemplo\n",
        "\n",
        "age = 19\n",
        "#age= 18\n",
        "\n",
        "if age >18:\n",
        "  print(\"you can enter\")\n",
        "\n",
        "print(\"move on\")"
      ],
      "metadata": {
        "colab": {
          "base_uri": "https://localhost:8080/"
        },
        "id": "FVqNZtHacaRq",
        "outputId": "eb8b09af-01a8-4a58-b767-5a3875814a92"
      },
      "execution_count": null,
      "outputs": [
        {
          "output_type": "stream",
          "name": "stdout",
          "text": [
            "you can enter\n",
            "move on\n"
          ]
        }
      ]
    },
    {
      "cell_type": "markdown",
      "source": [
        "CONDICIONAL ELSE"
      ],
      "metadata": {
        "id": "Jvh_plvldQx1"
      }
    },
    {
      "cell_type": "code",
      "source": [
        "#Ejemplo condicioanl else\n",
        "\n",
        "age = 18\n",
        "\n",
        "if age>18:\n",
        "  print(\"you can enter\")\n",
        "else:\n",
        "  print(\"go see Meat Loaf\")\n",
        "\n",
        "print(\"move on\")"
      ],
      "metadata": {
        "colab": {
          "base_uri": "https://localhost:8080/"
        },
        "id": "lNFY2lP1dULb",
        "outputId": "eb893b26-c4dd-4c2e-b93e-141ad1a9eb0d"
      },
      "execution_count": null,
      "outputs": [
        {
          "output_type": "stream",
          "name": "stdout",
          "text": [
            "go see Meat Loaf\n",
            "move on\n"
          ]
        }
      ]
    },
    {
      "cell_type": "markdown",
      "source": [
        "CONDICIONAL ELIF"
      ],
      "metadata": {
        "id": "VPuzJa0bd4Q1"
      }
    },
    {
      "cell_type": "code",
      "source": [
        "age = 18\n",
        "\n",
        "if age>18:\n",
        "  print(\"yoy can enter\")\n",
        "elif age==18:\n",
        "  print(\"go to see pink floyd\")\n",
        "else:\n",
        "    print(\"go to see meat loaf\")\n",
        "\n",
        "print(\"move on  \")\n"
      ],
      "metadata": {
        "colab": {
          "base_uri": "https://localhost:8080/"
        },
        "id": "_KChb4lbd_q7",
        "outputId": "1044abcf-cce9-404b-b232-ce462a576298"
      },
      "execution_count": null,
      "outputs": [
        {
          "output_type": "stream",
          "name": "stdout",
          "text": [
            "go to see pink floyd\n",
            "move on  \n"
          ]
        }
      ]
    },
    {
      "cell_type": "markdown",
      "source": [
        "OPERADORES LOGICOS"
      ],
      "metadata": {
        "id": "HYDS-Zs_fOP1"
      }
    },
    {
      "cell_type": "code",
      "source": [
        "#A veces es necesario revisar mas de una condición al mismo tiempo. Por ejemplo, pudieras querer ver si una condición y otra son Verdaderas. Los operadores lógicos permiten combinar o modificar condiciones.\n",
        "# and, or, not"
      ],
      "metadata": {
        "id": "XhzR2HYtfN4B"
      },
      "execution_count": null,
      "outputs": []
    },
    {
      "cell_type": "code",
      "source": [
        "album_year = 1980\n",
        "if(album_year> 1979) and (album_year<1990):\n",
        "  print(\"Album year was in between 80' and 90'\")\n",
        "\n",
        "  print(\"\")\n",
        "  print(\"do stuff..\")"
      ],
      "metadata": {
        "colab": {
          "base_uri": "https://localhost:8080/"
        },
        "id": "KUoGiq6TfkAu",
        "outputId": "55e9b20b-55f1-4aae-bf55-8925850dd6ad"
      },
      "execution_count": null,
      "outputs": [
        {
          "output_type": "stream",
          "name": "stdout",
          "text": [
            "Album year was in between 80' and 90'\n",
            "\n",
            "do stuff..\n"
          ]
        }
      ]
    },
    {
      "cell_type": "code",
      "source": [
        "album_year = 1990\n",
        "if(album_year<1980) or (album_year<1989):\n",
        "  print(\"album was not made in the 1980s\")\n",
        "else:\n",
        "  print(\"album was made in the 1980s\")"
      ],
      "metadata": {
        "colab": {
          "base_uri": "https://localhost:8080/"
        },
        "id": "LCPG2AVr4vCi",
        "outputId": "d32f483b-41b0-45c0-b9a5-629e8fb7f604"
      },
      "execution_count": null,
      "outputs": [
        {
          "output_type": "stream",
          "name": "stdout",
          "text": [
            "album was made in the 1980s\n"
          ]
        }
      ]
    },
    {
      "cell_type": "code",
      "source": [
        "album_year = 1983\n",
        "\n",
        "if not  (album_year == '1984'):\n",
        "  print(\"album year is not 1984\")"
      ],
      "metadata": {
        "colab": {
          "base_uri": "https://localhost:8080/"
        },
        "id": "B5jN407B5YlJ",
        "outputId": "2627170b-d343-416a-d776-993a27862aa1"
      },
      "execution_count": null,
      "outputs": [
        {
          "output_type": "stream",
          "name": "stdout",
          "text": [
            "album year is not 1984\n"
          ]
        }
      ]
    },
    {
      "cell_type": "markdown",
      "source": [
        "LAB 7 ***BUCLES***"
      ],
      "metadata": {
        "id": "_OoFPZvhB31k"
      }
    },
    {
      "cell_type": "markdown",
      "source": [
        "RANGE"
      ],
      "metadata": {
        "id": "UlKdgSCGEpNf"
      }
    },
    {
      "cell_type": "code",
      "source": [
        "#Es útil pensar en el rango como una lista ordenada. Por ahora, veamos un caso sencillo.\n",
        "range(3)\n",
        "#es decir 0,1,2\n"
      ],
      "metadata": {
        "id": "K4CYjKwPCI_p",
        "colab": {
          "base_uri": "https://localhost:8080/"
        },
        "outputId": "6106d13c-066a-4dc9-f3b2-09a64b4726d4"
      },
      "execution_count": null,
      "outputs": [
        {
          "output_type": "stream",
          "name": "stdout",
          "text": [
            "range(0, 3)\n"
          ]
        }
      ]
    },
    {
      "cell_type": "markdown",
      "source": [
        "FOR"
      ],
      "metadata": {
        "id": "Z7zVsmlwGY8x"
      }
    },
    {
      "cell_type": "code",
      "source": [
        "#si quisieras imprimir cada elemento en una lista. Usemos el bucle for\n",
        "DATES = [1982,1980, 1972]\n",
        "N= len(DATES)\n",
        "for i in range(N):\n",
        "  print(DATES[i])"
      ],
      "metadata": {
        "colab": {
          "base_uri": "https://localhost:8080/"
        },
        "id": "wca84YcvGYIJ",
        "outputId": "f2b1e4c8-408e-46ef-ee68-2d10b6ff2b27"
      },
      "execution_count": null,
      "outputs": [
        {
          "output_type": "stream",
          "name": "stdout",
          "text": [
            "1982\n",
            "1980\n",
            "1972\n"
          ]
        }
      ]
    },
    {
      "cell_type": "code",
      "source": [
        "for i in range(0, 8):\n",
        "  print(i)"
      ],
      "metadata": {
        "colab": {
          "base_uri": "https://localhost:8080/"
        },
        "id": "lq0QbG9MJHs4",
        "outputId": "236a8e22-9902-4e07-dcec-1486b7e03ffa"
      },
      "execution_count": null,
      "outputs": [
        {
          "output_type": "stream",
          "name": "stdout",
          "text": [
            "0\n",
            "1\n",
            "2\n",
            "3\n",
            "4\n",
            "5\n",
            "6\n",
            "7\n"
          ]
        }
      ]
    },
    {
      "cell_type": "code",
      "source": [
        "#la i puede cambiar por algun otra cosa\n",
        "for i in DATES:\n",
        "  print(i)"
      ],
      "metadata": {
        "colab": {
          "base_uri": "https://localhost:8080/"
        },
        "id": "rocgkK4bJ0So",
        "outputId": "f6ed0b73-d68d-405e-9661-46e438955572"
      },
      "execution_count": null,
      "outputs": [
        {
          "output_type": "stream",
          "name": "stdout",
          "text": [
            "1982\n",
            "1980\n",
            "1972\n"
          ]
        }
      ]
    },
    {
      "cell_type": "code",
      "source": [
        "#podemos modificar los elementos de una lista\n",
        "squares = ['red', 'yellow', 'green', 'purple', 'blue']\n",
        "\n",
        "for i in range(0, 5):\n",
        "  print(\"Before square\", i, \"is\", squares[i])\n",
        "  squares[i]= \"weight\"\n",
        "  print(\"After square\", i, \"is\", squares[i])"
      ],
      "metadata": {
        "colab": {
          "base_uri": "https://localhost:8080/"
        },
        "id": "TFevU82XK8Xr",
        "outputId": "149c6d76-ecf5-457b-ca32-e932a9df59d1"
      },
      "execution_count": null,
      "outputs": [
        {
          "output_type": "stream",
          "name": "stdout",
          "text": [
            "Before square 0 is red\n",
            "After square 0 is weight\n",
            "Before square 1 is yellow\n",
            "After square 1 is weight\n",
            "Before square 2 is green\n",
            "After square 2 is weight\n",
            "Before square 3 is purple\n",
            "After square 3 is weight\n",
            "Before square 4 is blue\n",
            "After square 4 is weight\n"
          ]
        }
      ]
    },
    {
      "cell_type": "code",
      "source": [
        "#Podemos acceder al índice y los elementos de una lista de la siguiente manera\n",
        "squares = ['red','yellow', 'green', 'purple', 'blue']\n",
        "for i, square in enumerate(squares):\n",
        "  print(i, square)"
      ],
      "metadata": {
        "colab": {
          "base_uri": "https://localhost:8080/"
        },
        "id": "ismgIWGaKKA9",
        "outputId": "9159370a-cd8d-4bdb-d871-a17faab5cf93"
      },
      "execution_count": null,
      "outputs": [
        {
          "output_type": "stream",
          "name": "stdout",
          "text": [
            "0 red\n",
            "1 yellow\n",
            "2 green\n",
            "3 purple\n",
            "4 blue\n"
          ]
        }
      ]
    },
    {
      "cell_type": "markdown",
      "source": [
        "WHILE"
      ],
      "metadata": {
        "id": "mLYRbeJvM9vj"
      }
    },
    {
      "cell_type": "code",
      "source": [
        "dates = [1982, 1980, 1973, 2000]\n",
        "i=0\n",
        "year=0\n",
        "while(year != 1973):\n",
        "  year = dates[i]\n",
        "  print(year)\n",
        "  i=i+1\n",
        "\n",
        "print(\"It took\", i, \"repetitions to get out of loop\")"
      ],
      "metadata": {
        "colab": {
          "base_uri": "https://localhost:8080/"
        },
        "id": "kFlnA-VTM57k",
        "outputId": "cac5d369-62c9-4d4f-eae5-565221f2cf41"
      },
      "execution_count": null,
      "outputs": [
        {
          "output_type": "stream",
          "name": "stdout",
          "text": [
            "1982\n",
            "1980\n",
            "1973\n",
            "It took 3 repetitions to get out of loop\n"
          ]
        }
      ]
    },
    {
      "cell_type": "code",
      "source": [
        "#Escribe un bucle while que muestre los valores de la calificación de las canciones de un disco almacenados en la lista PlayListRatings. Si la calificación es menor a 6, sal del bucle. La lista PlayListRatings esta compuesta por: PlayListRatings = [10, 9.5, 10, 8, 7.5, 5, 10, 10]\n",
        "PlayListRatings = [10, 9.5, 10, 8, 7.5, 5, 10, 10]\n",
        "i=0\n",
        "while(PlayListRatings[i]>=6):\n",
        "  print(PlayListRatings[i])\n",
        "  i=i+1\n"
      ],
      "metadata": {
        "colab": {
          "base_uri": "https://localhost:8080/"
        },
        "id": "SpN6drpUVNGh",
        "outputId": "d145f73e-e187-4118-8fbf-f568962f29e4"
      },
      "execution_count": null,
      "outputs": [
        {
          "output_type": "stream",
          "name": "stdout",
          "text": [
            "10\n",
            "9.5\n",
            "10\n",
            "8\n",
            "7.5\n"
          ]
        }
      ]
    },
    {
      "cell_type": "markdown",
      "source": [
        "LAB 8 ***FUNCIONES***"
      ],
      "metadata": {
        "id": "tciXeYAWX6sP"
      }
    },
    {
      "cell_type": "markdown",
      "source": [
        "Hay dos tipos de funciones:\n",
        "\n",
        "Funciones predefinidas\n",
        "\n",
        "Funciones definidas por el usuario"
      ],
      "metadata": {
        "id": "3hxHgVUbZEGj"
      }
    },
    {
      "cell_type": "code",
      "source": [
        "def sum(a):\n",
        "  b=a+1\n",
        "  print(a, \"si sumas 1 es\", b)\n",
        "  return b"
      ],
      "metadata": {
        "id": "EAtGjzkSYDKi"
      },
      "execution_count": null,
      "outputs": []
    },
    {
      "cell_type": "code",
      "source": [
        "#Podemos obtener ayuda sobre una función:\n",
        "help(sum)"
      ],
      "metadata": {
        "colab": {
          "base_uri": "https://localhost:8080/"
        },
        "id": "XovpeXyZbpOH",
        "outputId": "aacb48ce-5a8f-4cec-b2a6-eef5236b993e"
      },
      "execution_count": null,
      "outputs": [
        {
          "output_type": "stream",
          "name": "stdout",
          "text": [
            "Help on function sum in module __main__:\n",
            "\n",
            "sum(a)\n",
            "\n"
          ]
        }
      ]
    },
    {
      "cell_type": "code",
      "source": [
        "sum(1)"
      ],
      "metadata": {
        "colab": {
          "base_uri": "https://localhost:8080/"
        },
        "id": "ga8WvLvKcJvD",
        "outputId": "dc57242e-6871-4e54-c2ad-8eba9795f4e3"
      },
      "execution_count": null,
      "outputs": [
        {
          "output_type": "stream",
          "name": "stdout",
          "text": [
            "1 si sumas 1 es 2\n"
          ]
        },
        {
          "output_type": "execute_result",
          "data": {
            "text/plain": [
              "2"
            ]
          },
          "metadata": {},
          "execution_count": 25
        }
      ]
    },
    {
      "cell_type": "code",
      "source": [
        "sum(2)"
      ],
      "metadata": {
        "colab": {
          "base_uri": "https://localhost:8080/"
        },
        "id": "eaYE4OexcXNJ",
        "outputId": "df743086-8d9f-4132-9eb3-a437222d3e83"
      },
      "execution_count": null,
      "outputs": [
        {
          "output_type": "stream",
          "name": "stdout",
          "text": [
            "2 si sumas 1 es 3\n"
          ]
        },
        {
          "output_type": "execute_result",
          "data": {
            "text/plain": [
              "3"
            ]
          },
          "metadata": {},
          "execution_count": 26
        }
      ]
    },
    {
      "cell_type": "code",
      "source": [
        "#Podemos crear diferentes funciones. Por ejemplo, podemos crear una función que multiplique dos números. Los números estarán representados por las variables  a  y  b :\n",
        "def Mult (a,b):\n",
        "  c = a * b\n",
        "  return c"
      ],
      "metadata": {
        "id": "ntM01UatcaZr"
      },
      "execution_count": null,
      "outputs": []
    },
    {
      "cell_type": "code",
      "source": [
        "Mult(2,3)"
      ],
      "metadata": {
        "colab": {
          "base_uri": "https://localhost:8080/"
        },
        "id": "MW209QZyc7L6",
        "outputId": "f8dc8dcd-e2d8-4a5b-c52c-5c2f6cf054c0"
      },
      "execution_count": null,
      "outputs": [
        {
          "output_type": "execute_result",
          "data": {
            "text/plain": [
              "6"
            ]
          },
          "metadata": {},
          "execution_count": 28
        }
      ]
    },
    {
      "cell_type": "code",
      "source": [
        "Mult(10.0,3.14)"
      ],
      "metadata": {
        "colab": {
          "base_uri": "https://localhost:8080/"
        },
        "id": "j4J1j4IpdA2R",
        "outputId": "a16302e9-6456-4b8a-ade8-9119037eaabe"
      },
      "execution_count": null,
      "outputs": [
        {
          "output_type": "execute_result",
          "data": {
            "text/plain": [
              "31.400000000000002"
            ]
          },
          "metadata": {},
          "execution_count": 29
        }
      ]
    },
    {
      "cell_type": "code",
      "source": [
        "#Incluso podemos replicar una cadena multiplicándola por un número entero\n",
        "Mult(\"Michael Jackson\", 3)"
      ],
      "metadata": {
        "colab": {
          "base_uri": "https://localhost:8080/",
          "height": 35
        },
        "id": "yq2h055HdLIo",
        "outputId": "c76df5f4-99e8-427d-9c37-4f4b2ceb8c73"
      },
      "execution_count": null,
      "outputs": [
        {
          "output_type": "execute_result",
          "data": {
            "text/plain": [
              "'Michael JacksonMichael JacksonMichael Jackson'"
            ],
            "application/vnd.google.colaboratory.intrinsic+json": {
              "type": "string"
            }
          },
          "metadata": {},
          "execution_count": 30
        }
      ]
    },
    {
      "cell_type": "markdown",
      "source": [
        "VARIABLES"
      ],
      "metadata": {
        "id": "me0ocwS-da7g"
      }
    },
    {
      "cell_type": "code",
      "source": [
        "#Una variable que se declara dentro de una función se llama variable local. El parámetro solo existe dentro de la función (es decir, el punto donde la función comienza y se detiene).\n",
        "#Una variable que se declara fuera de la definición de una función es una variable global, y su valor es accesible y modificable en todo el programa.\n",
        "def square(a):\n",
        "  b = 1\n",
        "  c = a * a + b\n",
        "  print(a, \"if you square + 1\", c)\n",
        "  return(c)"
      ],
      "metadata": {
        "id": "rhUPdPiaddng"
      },
      "execution_count": null,
      "outputs": []
    },
    {
      "cell_type": "code",
      "source": [
        "#Podemos llamar a la función con una entrada de 3 :\n",
        "\n",
        "x=3\n",
        "y=square(x)\n",
        "y"
      ],
      "metadata": {
        "colab": {
          "base_uri": "https://localhost:8080/"
        },
        "id": "AyuMEJdqeslF",
        "outputId": "a9159a28-b118-4665-fd66-f7a5b1a55597"
      },
      "execution_count": null,
      "outputs": [
        {
          "output_type": "stream",
          "name": "stdout",
          "text": [
            "3 if you square + 1 10\n"
          ]
        },
        {
          "output_type": "execute_result",
          "data": {
            "text/plain": [
              "10"
            ]
          },
          "metadata": {},
          "execution_count": 32
        }
      ]
    },
    {
      "cell_type": "code",
      "source": [
        "#Podemos llamar a la función con una entrada de 2 de una manera diferente:\n",
        "square(2)"
      ],
      "metadata": {
        "id": "fp3_tvAHfAjN",
        "outputId": "99ee4a22-242f-405d-9c7a-447072252f13",
        "colab": {
          "base_uri": "https://localhost:8080/"
        }
      },
      "execution_count": null,
      "outputs": [
        {
          "output_type": "stream",
          "name": "stdout",
          "text": [
            "2 if you square + 1 5\n"
          ]
        },
        {
          "output_type": "execute_result",
          "data": {
            "text/plain": [
              "5"
            ]
          },
          "metadata": {},
          "execution_count": 33
        }
      ]
    },
    {
      "cell_type": "code",
      "source": [
        "#Si no hay una instrucción  return , la función devuelve  None\n",
        "def MJ():\n",
        "  print (\"Michael Jackson\")\n",
        "\n",
        "def MJ1():\n",
        "  print(\"Michael Jackson\")\n",
        "  return(None)\n",
        "\n",
        "\n",
        "MJ()\n",
        "MJ1()\n",
        "#La impresión de la función después de una llamada revela ** None ** es la declaración de retorno predeterminada:\n",
        "print(MJ())\n",
        "print(MJ1())"
      ],
      "metadata": {
        "colab": {
          "base_uri": "https://localhost:8080/"
        },
        "id": "QI1jyCxNqPoH",
        "outputId": "bc9df1a6-6cee-41c9-a000-a9af8db757ac"
      },
      "execution_count": 4,
      "outputs": [
        {
          "output_type": "stream",
          "name": "stdout",
          "text": [
            "Michael Jackson\n",
            "Michael Jackson\n",
            "Michael Jackson\n",
            "None\n",
            "Michael Jackson\n",
            "None\n"
          ]
        }
      ]
    },
    {
      "cell_type": "code",
      "source": [
        "#Cree una función  con  que concatene dos cadenas usando la operación de suma:\n",
        "def con(a,b):\n",
        "  return(a + b)\n",
        "\n",
        "\n",
        "con(\"this \", \"is\")"
      ],
      "metadata": {
        "colab": {
          "base_uri": "https://localhost:8080/",
          "height": 36
        },
        "id": "bymiv5paq9VH",
        "outputId": "9124100e-8220-46b2-e2d4-8ff75d8bf26f"
      },
      "execution_count": 11,
      "outputs": [
        {
          "output_type": "execute_result",
          "data": {
            "text/plain": [
              "'this is'"
            ],
            "application/vnd.google.colaboratory.intrinsic+json": {
              "type": "string"
            }
          },
          "metadata": {},
          "execution_count": 11
        }
      ]
    },
    {
      "cell_type": "code",
      "source": [
        "#La función  return ()  es particularmente útil si tiene alguna declaración IF en la función, cuando desea que su salida dependa de alguna condición:\n",
        "\n",
        "def type_of_album(artist, album, year_released):\n",
        "\n",
        "  print(artist, album, year_released)\n",
        "  if year_released > 1980:\n",
        "    return \"modern\"\n",
        "  else:\n",
        "    return \"oldie\"\n",
        "\n",
        "x = type_of_album(\"Michael Jackson\", \"Thriller\", 1980)\n",
        "\n",
        "print(x)\n",
        ""
      ],
      "metadata": {
        "colab": {
          "base_uri": "https://localhost:8080/"
        },
        "id": "VmIigXoc2cUg",
        "outputId": "32c968fc-cb1d-4de5-8067-b949dbbcdfc0"
      },
      "execution_count": 16,
      "outputs": [
        {
          "output_type": "stream",
          "name": "stdout",
          "text": [
            "Michael Jackson Thriller 1980\n",
            "oldie\n"
          ]
        }
      ]
    },
    {
      "cell_type": "code",
      "source": [
        "def printlist (the_list):\n",
        "  for element in the_list:\n",
        "    print(element)\n",
        "\n",
        "printlist([\"1\", 1, \"te man\", \"abc\"])"
      ],
      "metadata": {
        "colab": {
          "base_uri": "https://localhost:8080/"
        },
        "id": "Yr74uHf63YXz",
        "outputId": "04f78b55-e4bc-4863-e245-c8815004b3ff"
      },
      "execution_count": 19,
      "outputs": [
        {
          "output_type": "stream",
          "name": "stdout",
          "text": [
            "1\n",
            "1\n",
            "te man\n",
            "abc\n"
          ]
        }
      ]
    },
    {
      "cell_type": "markdown",
      "source": [
        "Establecer valores de argumento predeterminados en sus funciones personalizadas"
      ],
      "metadata": {
        "id": "ALVnjL0k389K"
      }
    },
    {
      "cell_type": "code",
      "source": [
        "def isGoodRating(rating=4):\n",
        "    if(rating < 7):\n",
        "        print(\"this album sucks it's rating is\",rating)\n",
        "\n",
        "    else:\n",
        "        print(\"this album is good its rating is\",rating)\n",
        "\n",
        "\n",
        "isGoodRating()\n",
        "isGoodRating(10)"
      ],
      "metadata": {
        "colab": {
          "base_uri": "https://localhost:8080/"
        },
        "id": "DFNbzMgo396o",
        "outputId": "bfca4bb5-90d0-460d-dd44-1d395db6019d"
      },
      "execution_count": 21,
      "outputs": [
        {
          "output_type": "stream",
          "name": "stdout",
          "text": [
            "this album sucks it's rating is 4\n",
            "this album is good its rating is 10\n"
          ]
        }
      ]
    },
    {
      "cell_type": "markdown",
      "source": [
        "VARIABLES GLOBALES"
      ],
      "metadata": {
        "id": "Zd8m5_dc4rfH"
      }
    },
    {
      "cell_type": "code",
      "source": [
        "artist = \"Michael Jackson\"\n",
        "def printer1(artist):\n",
        "  internal_var= artist\n",
        "  print(artist, \"is an artist\")\n",
        "\n",
        "printer1(artist)"
      ],
      "metadata": {
        "colab": {
          "base_uri": "https://localhost:8080/"
        },
        "id": "7l0L03qO4uxW",
        "outputId": "1b5fd4f9-9a15-4798-acd5-b0ba07f968c1"
      },
      "execution_count": 24,
      "outputs": [
        {
          "output_type": "stream",
          "name": "stdout",
          "text": [
            "Michael Jackson is an artist\n"
          ]
        }
      ]
    },
    {
      "cell_type": "markdown",
      "source": [
        "hay una forma de crear variables globales desde dentro de una función de la siguiente manera:"
      ],
      "metadata": {
        "id": "TzVRzGzj5GnX"
      }
    },
    {
      "cell_type": "code",
      "source": [
        "artist = \"Michael Jacjson\"\n",
        "\n",
        "def printer(artist):\n",
        "  global internal_var\n",
        "  internal_var = artist\n",
        "  print(artist, \"is an artist\")\n",
        "\n",
        "printer(artist)\n",
        "printer(internal_var)"
      ],
      "metadata": {
        "colab": {
          "base_uri": "https://localhost:8080/"
        },
        "id": "Hv1QSzHW5GHe",
        "outputId": "77b70e19-9593-42f7-eec7-ec05b4196c1c"
      },
      "execution_count": 25,
      "outputs": [
        {
          "output_type": "stream",
          "name": "stdout",
          "text": [
            "Michael Jacjson is an artist\n",
            "Michael Jacjson is an artist\n"
          ]
        }
      ]
    },
    {
      "cell_type": "code",
      "source": [
        "# las variables glovales se pueden usar dentro de las funciones y a fuera de ellas\n",
        "myFavouriteBand = \"AC/DC\"\n",
        "\n",
        "def getBandRating(bandname):\n",
        "    if bandname == myFavouriteBand:\n",
        "        return 10.0\n",
        "    else:\n",
        "        return 0.0\n",
        "\n",
        "print(\"AC/DC's rating is:\", getBandRating(\"AC/DC\"))\n",
        "print(\"Deep Purple's rating is:\",getBandRating(\"Deep Purple\"))\n",
        "print(\"My favourite band is:\", myFavouriteBand)"
      ],
      "metadata": {
        "colab": {
          "base_uri": "https://localhost:8080/"
        },
        "id": "p84erhuk54-V",
        "outputId": "dd06a946-5f86-483d-f552-db7e0c1842ea"
      },
      "execution_count": 26,
      "outputs": [
        {
          "output_type": "stream",
          "name": "stdout",
          "text": [
            "AC/DC's rating is: 10.0\n",
            "Deep Purple's rating is: 0.0\n",
            "My favourite band is: AC/DC\n"
          ]
        }
      ]
    },
    {
      "cell_type": "code",
      "source": [],
      "metadata": {
        "colab": {
          "base_uri": "https://localhost:8080/",
          "height": 211
        },
        "id": "Dc2-kdi36g0l",
        "outputId": "2a7af8a0-dc2a-45f0-b89f-dd1ec68a93df"
      },
      "execution_count": 29,
      "outputs": [
        {
          "output_type": "stream",
          "name": "stdout",
          "text": [
            "AC/DC's rating is:  10.0\n",
            "Deep Purple's rating is:  0.0\n"
          ]
        },
        {
          "output_type": "error",
          "ename": "NameError",
          "evalue": "name 'myFavouriteBand' is not defined",
          "traceback": [
            "\u001b[0;31m---------------------------------------------------------------------------\u001b[0m",
            "\u001b[0;31mNameError\u001b[0m                                 Traceback (most recent call last)",
            "\u001b[0;32m<ipython-input-29-f0272ad55787>\u001b[0m in \u001b[0;36m<cell line: 10>\u001b[0;34m()\u001b[0m\n\u001b[1;32m      8\u001b[0m \u001b[0mprint\u001b[0m\u001b[0;34m(\u001b[0m\u001b[0;34m\"AC/DC's rating is: \"\u001b[0m\u001b[0;34m,\u001b[0m \u001b[0mgetBandRating\u001b[0m\u001b[0;34m(\u001b[0m\u001b[0;34m\"AC/DC\"\u001b[0m\u001b[0;34m)\u001b[0m\u001b[0;34m)\u001b[0m\u001b[0;34m\u001b[0m\u001b[0;34m\u001b[0m\u001b[0m\n\u001b[1;32m      9\u001b[0m \u001b[0mprint\u001b[0m\u001b[0;34m(\u001b[0m\u001b[0;34m\"Deep Purple's rating is: \"\u001b[0m\u001b[0;34m,\u001b[0m \u001b[0mgetBandRating\u001b[0m\u001b[0;34m(\u001b[0m\u001b[0;34m\"Deep Purple\"\u001b[0m\u001b[0;34m)\u001b[0m\u001b[0;34m)\u001b[0m\u001b[0;34m\u001b[0m\u001b[0;34m\u001b[0m\u001b[0m\n\u001b[0;32m---> 10\u001b[0;31m \u001b[0mprint\u001b[0m\u001b[0;34m(\u001b[0m\u001b[0;34m\"My favourite band is\"\u001b[0m\u001b[0;34m,\u001b[0m \u001b[0mmyFavouriteBand\u001b[0m\u001b[0;34m)\u001b[0m\u001b[0;34m\u001b[0m\u001b[0;34m\u001b[0m\u001b[0m\n\u001b[0m",
            "\u001b[0;31mNameError\u001b[0m: name 'myFavouriteBand' is not defined"
          ]
        }
      ]
    },
    {
      "cell_type": "markdown",
      "source": [
        "Jerarquia en las variables"
      ],
      "metadata": {
        "id": "NMLij-Jx7FrV"
      }
    },
    {
      "cell_type": "code",
      "source": [
        "# Example of global variable and local variable with the same name\n",
        "\n",
        "myFavouriteBand = \"AC/DC\"\n",
        "\n",
        "def getBandRating(bandname):\n",
        "    myFavouriteBand = \"Deep Purple\"\n",
        "    if bandname == myFavouriteBand:\n",
        "        return 10.0\n",
        "    else:\n",
        "        return 0.0\n",
        "\n",
        "print(\"AC/DC's rating is:\",getBandRating(\"AC/DC\"))\n",
        "print(\"Deep Purple's rating is: \",getBandRating(\"Deep Purple\"))\n",
        "print(\"My favourite band is:\",myFavouriteBand)"
      ],
      "metadata": {
        "colab": {
          "base_uri": "https://localhost:8080/"
        },
        "id": "__YoszD-7E1X",
        "outputId": "9dc06307-8604-4bc0-ec8d-e1841e37b9cf"
      },
      "execution_count": 30,
      "outputs": [
        {
          "output_type": "stream",
          "name": "stdout",
          "text": [
            "AC/DC's rating is: 0.0\n",
            "Deep Purple's rating is:  10.0\n",
            "My favourite band is: AC/DC\n"
          ]
        }
      ]
    },
    {
      "cell_type": "markdown",
      "source": [
        "LAB 9 ***CLASES Y OBJETOS***\n"
      ],
      "metadata": {
        "id": "nEk6eKkJ_0vc"
      }
    },
    {
      "cell_type": "code",
      "source": [
        "#Creemos ahora una clase circle, pero primero, importemos una librería para dibujar objetos:\n",
        "\n",
        "\n",
        "import matplotlib.pyplot as plt\n",
        "%matplotlib inline\n",
        "\n",
        "\n",
        "class Circle(object):\n",
        "  #constructor\n",
        "  def __init__(self, radius=3, color=\"blue\"):\n",
        "    self.radius = radius\n",
        "    self.color=color\n",
        "\n",
        "  #metodo\n",
        "  def add_radius(self, r):\n",
        "    self.radius = self.radius + r\n",
        "    return(self.radius)\n",
        "\n",
        "\n",
        "  def drawCircle(self):\n",
        "    plt.gca().add_patch(plt.Circle((0,0), radius=self.radius, fc=self.color))\n",
        "    plt.axis(\"scaled\")\n",
        "    plt.show()\n",
        "\n",
        "Redcircle = Circle(10, \"red\")\n",
        "\n",
        ""
      ],
      "metadata": {
        "id": "tUxH4gWQ_6UP"
      },
      "execution_count": 43,
      "outputs": []
    },
    {
      "cell_type": "code",
      "source": [
        "#Podemos usar el comando dir para obtener una lista de los métodos del objeto. Muchos de ellos son métodos por defecto de Python.\n",
        "dir(Redcircle)"
      ],
      "metadata": {
        "colab": {
          "base_uri": "https://localhost:8080/"
        },
        "id": "JgQhqPHvG083",
        "outputId": "a6d3f441-069a-4a91-ab36-25d470b8337b"
      },
      "execution_count": 46,
      "outputs": [
        {
          "output_type": "execute_result",
          "data": {
            "text/plain": [
              "['__class__',\n",
              " '__delattr__',\n",
              " '__dict__',\n",
              " '__dir__',\n",
              " '__doc__',\n",
              " '__eq__',\n",
              " '__format__',\n",
              " '__ge__',\n",
              " '__getattribute__',\n",
              " '__gt__',\n",
              " '__hash__',\n",
              " '__init__',\n",
              " '__init_subclass__',\n",
              " '__le__',\n",
              " '__lt__',\n",
              " '__module__',\n",
              " '__ne__',\n",
              " '__new__',\n",
              " '__reduce__',\n",
              " '__reduce_ex__',\n",
              " '__repr__',\n",
              " '__setattr__',\n",
              " '__sizeof__',\n",
              " '__str__',\n",
              " '__subclasshook__',\n",
              " '__weakref__',\n",
              " 'add_radius',\n",
              " 'color',\n",
              " 'drawCircle',\n",
              " 'radius']"
            ]
          },
          "metadata": {},
          "execution_count": 46
        }
      ]
    },
    {
      "cell_type": "code",
      "source": [
        "#imprimir los atributos\n",
        "\n",
        "Redcircle.color\n"
      ],
      "metadata": {
        "colab": {
          "base_uri": "https://localhost:8080/",
          "height": 36
        },
        "id": "MdaprDVdHPt7",
        "outputId": "92538000-2270-4e9b-e534-0f03b88cf729"
      },
      "execution_count": 49,
      "outputs": [
        {
          "output_type": "execute_result",
          "data": {
            "text/plain": [
              "'red'"
            ],
            "application/vnd.google.colaboratory.intrinsic+json": {
              "type": "string"
            }
          },
          "metadata": {},
          "execution_count": 49
        }
      ]
    },
    {
      "cell_type": "code",
      "source": [
        "Redcircle.radius"
      ],
      "metadata": {
        "colab": {
          "base_uri": "https://localhost:8080/"
        },
        "id": "ng-eF9tGHX71",
        "outputId": "0eb73ecd-d163-4e67-eaa5-49300750619f"
      },
      "execution_count": 50,
      "outputs": [
        {
          "output_type": "execute_result",
          "data": {
            "text/plain": [
              "10"
            ]
          },
          "metadata": {},
          "execution_count": 50
        }
      ]
    },
    {
      "cell_type": "code",
      "source": [
        "#Podemos cambiar el valor de los atributos del objeto:\n",
        "Redcircle.radius = 1\n",
        "Redcircle.radius"
      ],
      "metadata": {
        "colab": {
          "base_uri": "https://localhost:8080/"
        },
        "id": "PYVJvx68HdP-",
        "outputId": "63f6579b-4542-4744-ac38-2649e823cf4a"
      },
      "execution_count": 51,
      "outputs": [
        {
          "output_type": "execute_result",
          "data": {
            "text/plain": [
              "1"
            ]
          },
          "metadata": {},
          "execution_count": 51
        }
      ]
    },
    {
      "cell_type": "code",
      "source": [
        "#Dibujamos el objeto usando el método drawCircle():\n",
        "Redcircle.drawCircle()"
      ],
      "metadata": {
        "colab": {
          "base_uri": "https://localhost:8080/",
          "height": 430
        },
        "id": "BHh3in-_HogV",
        "outputId": "7f2f74d3-07b1-4bf9-cee3-3c0c7316453d"
      },
      "execution_count": 52,
      "outputs": [
        {
          "output_type": "display_data",
          "data": {
            "text/plain": [
              "<Figure size 640x480 with 1 Axes>"
            ],
            "image/png": "[encoded data removed]"
          },
          "metadata": {}
        }
      ]
    },
    {
      "cell_type": "code",
      "source": [
        "#usar los metodos\n",
        "Redcircle.add_radius(3)"
      ],
      "metadata": {
        "colab": {
          "base_uri": "https://localhost:8080/"
        },
        "id": "6pD4QTDkHvNn",
        "outputId": "1ac9b60b-2afb-4f82-f065-e66a4d3c6a5b"
      },
      "execution_count": 53,
      "outputs": [
        {
          "output_type": "execute_result",
          "data": {
            "text/plain": [
              "4"
            ]
          },
          "metadata": {},
          "execution_count": 53
        }
      ]
    },
    {
      "cell_type": "code",
      "source": [
        "#otro ejemplo con otro clase\n",
        "\n",
        "class Rectangulo(object):\n",
        "\n",
        "  def __init__(self, largo=2, alto=3, color=\"r\"):\n",
        "    self.largo = largo\n",
        "    self.alto = alto\n",
        "    self.color = color\n",
        "\n",
        "  def drawRectangle(self):\n",
        "    plt.gca().add_patch(plt.Rectangle((0,0), self.largo, self.alto, fc=self.color))\n",
        "    plt.axis(\"scaled\")\n",
        "    plt.show()\n",
        "\n",
        "\n",
        "Primer_r = Rectangulo(2, 10, \"blue\")"
      ],
      "metadata": {
        "id": "8qDf34_EIDM_"
      },
      "execution_count": 55,
      "outputs": []
    },
    {
      "cell_type": "code",
      "source": [
        "Primer_r.alto"
      ],
      "metadata": {
        "colab": {
          "base_uri": "https://localhost:8080/"
        },
        "id": "nDYDJ-KbJp6K",
        "outputId": "d3436eaf-2ece-4e82-a61b-6aadee348c00"
      },
      "execution_count": 56,
      "outputs": [
        {
          "output_type": "execute_result",
          "data": {
            "text/plain": [
              "10"
            ]
          },
          "metadata": {},
          "execution_count": 56
        }
      ]
    },
    {
      "cell_type": "code",
      "source": [
        "Primer_r.largo"
      ],
      "metadata": {
        "colab": {
          "base_uri": "https://localhost:8080/"
        },
        "id": "c_CCECX2JtB9",
        "outputId": "affd606b-3cbb-4218-85fc-d6bd67926399"
      },
      "execution_count": 57,
      "outputs": [
        {
          "output_type": "execute_result",
          "data": {
            "text/plain": [
              "2"
            ]
          },
          "metadata": {},
          "execution_count": 57
        }
      ]
    },
    {
      "cell_type": "code",
      "source": [
        "Primer_r.color"
      ],
      "metadata": {
        "colab": {
          "base_uri": "https://localhost:8080/",
          "height": 36
        },
        "id": "Yp_rOomIJvdK",
        "outputId": "328226f0-899b-4488-aa10-d57de39bc274"
      },
      "execution_count": 58,
      "outputs": [
        {
          "output_type": "execute_result",
          "data": {
            "text/plain": [
              "'blue'"
            ],
            "application/vnd.google.colaboratory.intrinsic+json": {
              "type": "string"
            }
          },
          "metadata": {},
          "execution_count": 58
        }
      ]
    },
    {
      "cell_type": "code",
      "source": [
        "Primer_r.drawRectangle()"
      ],
      "metadata": {
        "colab": {
          "base_uri": "https://localhost:8080/",
          "height": 430
        },
        "id": "TVFvxe4XJzJp",
        "outputId": "2d54ec50-07a1-4072-fcc9-014ade6c1454"
      },
      "execution_count": 61,
      "outputs": [
        {
          "output_type": "display_data",
          "data": {
            "text/plain": [
              "<Figure size 640x480 with 1 Axes>"
            ],
            "image/png": "[encoded data removed]"
          },
          "metadata": {}
        }
      ]
    }
  ]
}