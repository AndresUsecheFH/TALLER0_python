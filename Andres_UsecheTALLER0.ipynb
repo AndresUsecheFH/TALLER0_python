{
  "nbformat": 4,
  "nbformat_minor": 0,
  "metadata": {
    "colab": {
      "provenance": []
    },
    "kernelspec": {
      "name": "python3",
      "display_name": "Python 3"
    },
    "language_info": {
      "name": "python"
    }
  },
  "cells": [
    {
      "cell_type": "markdown",
      "source": [
        "TALLER PYTHON 00\n",
        "***Andres Felipe Useche Hernandez***\n",
        "Procesamiento de datos a gran escala"
      ],
      "metadata": {
        "id": "76MR_ZxYS-Tx"
      }
    },
    {
      "cell_type": "markdown",
      "source": [
        "***LAB 1 CADENAS***"
      ],
      "metadata": {
        "id": "-edm9HPUjl-N"
      }
    },
    {
      "cell_type": "code",
      "execution_count": null,
      "metadata": {
        "colab": {
          "base_uri": "https://localhost:8080/"
        },
        "id": "xRdr254BjiHa",
        "outputId": "a3292bc5-3676-427d-fcb0-40848984f5c5"
      },
      "outputs": [
        {
          "output_type": "stream",
          "name": "stdout",
          "text": [
            "1\n"
          ]
        }
      ],
      "source": [
        "#¿Cual es el valor de la variable A después de ejecutar el siguiente código?\n",
        "A = \"1\"\n",
        "print(A)\n",
        "#El valor de la variable es 1"
      ]
    },
    {
      "cell_type": "code",
      "source": [
        "#¿Cual es el valor de la variable B después de ejecutar el siguiente código?\n",
        "B = \"2\"\n",
        "print(B)\n",
        "#El valor de la variable es 2"
      ],
      "metadata": {
        "colab": {
          "base_uri": "https://localhost:8080/"
        },
        "id": "lZqLu52pkAcR",
        "outputId": "d31a43d7-72a4-4d61-97a8-63eafd21ffcd"
      },
      "execution_count": null,
      "outputs": [
        {
          "output_type": "stream",
          "name": "stdout",
          "text": [
            "2\n"
          ]
        }
      ]
    },
    {
      "cell_type": "code",
      "source": [
        "#¿Cual es el valor de la variable C después de ejecutar el siguiente código\n",
        "C = A + B\n",
        "print(C)\n",
        "#El valor de la variable es 12"
      ],
      "metadata": {
        "colab": {
          "base_uri": "https://localhost:8080/"
        },
        "id": "W994ppj2kUVi",
        "outputId": "111689b6-460b-457d-eed1-26eb5ea7187b"
      },
      "execution_count": null,
      "outputs": [
        {
          "output_type": "stream",
          "name": "stdout",
          "text": [
            "12\n"
          ]
        }
      ]
    },
    {
      "cell_type": "code",
      "source": [
        "#En la variable D haz uso del slicing para imprimir solo los primeros tres elementos:\n",
        "D = \"ABCDEFG\"\n",
        "print(D[0:3])"
      ],
      "metadata": {
        "colab": {
          "base_uri": "https://localhost:8080/"
        },
        "id": "jpYPls-uknER",
        "outputId": "6becb4e2-0a9b-475e-cacd-0749a0614825"
      },
      "execution_count": null,
      "outputs": [
        {
          "output_type": "stream",
          "name": "stdout",
          "text": [
            "ABC\n"
          ]
        }
      ]
    },
    {
      "cell_type": "code",
      "source": [
        "#Usa un valor de stride de 2 para imprimir cada segundo elemento de la cadena E\n",
        "E = 'clocrkr1e1c1t'\n",
        "print(E[::2])"
      ],
      "metadata": {
        "colab": {
          "base_uri": "https://localhost:8080/"
        },
        "id": "v-nqhXw2nQrX",
        "outputId": "76b730e7-d855-4c44-85c0-1bcc57be2cfd"
      },
      "execution_count": null,
      "outputs": [
        {
          "output_type": "stream",
          "name": "stdout",
          "text": [
            "correct\n"
          ]
        }
      ]
    },
    {
      "cell_type": "code",
      "source": [
        "#Imprime una barra invertida:\n",
        "print( \"\\\\\")\n",
        "print(r\"\\\\\")"
      ],
      "metadata": {
        "colab": {
          "base_uri": "https://localhost:8080/"
        },
        "id": "paXFkmCiomdL",
        "outputId": "f66f4e5d-a99c-4430-dd7f-baed54a5d166"
      },
      "execution_count": null,
      "outputs": [
        {
          "output_type": "stream",
          "name": "stdout",
          "text": [
            "\\\n",
            "\\\\\n"
          ]
        }
      ]
    },
    {
      "cell_type": "code",
      "source": [
        "#Convierte el mayúsculas el contenido de la variable F:\n",
        "F = \"yoy are wrong\"\n",
        "print(F.upper())\n"
      ],
      "metadata": {
        "colab": {
          "base_uri": "https://localhost:8080/"
        },
        "id": "V9Mb_xvUpSMg",
        "outputId": "7964e86c-dcad-4eed-9778-d172357505b9"
      },
      "execution_count": null,
      "outputs": [
        {
          "output_type": "stream",
          "name": "stdout",
          "text": [
            "YOY ARE WRONG\n"
          ]
        }
      ]
    },
    {
      "cell_type": "code",
      "source": [
        "#En la variable G, encuentra el primer índice de la sub-cadena snow:\n",
        "\n",
        "G = \"Mary had a little lamb Little lamb, little lamb Mary had a little lamb \\\n",
        "Its fleece was white as snow And everywhere that Mary went Mary went, Mary went \\\n",
        "Everywhere that Mary went The lamb was sure to go\"\n",
        "print(G.find(\"snow\"))"
      ],
      "metadata": {
        "colab": {
          "base_uri": "https://localhost:8080/"
        },
        "id": "IDQ_OJCnrwq8",
        "outputId": "4cfc7054-21c4-412c-ae1f-172acc9a14ac"
      },
      "execution_count": null,
      "outputs": [
        {
          "output_type": "stream",
          "name": "stdout",
          "text": [
            "95\n"
          ]
        }
      ]
    },
    {
      "cell_type": "code",
      "source": [
        "#En la variable G, reemplaza la sub-cadena Mary con Bob:\n",
        "G = G.replace(\"Mary\", \"Bob\")\n",
        "print(G)"
      ],
      "metadata": {
        "colab": {
          "base_uri": "https://localhost:8080/"
        },
        "id": "1AdG9KqssOH6",
        "outputId": "fbcb3994-d825-4670-d1dc-0fcc0abf1941"
      },
      "execution_count": null,
      "outputs": [
        {
          "output_type": "stream",
          "name": "stdout",
          "text": [
            "Bob had a little lamb Little lamb, little lamb Bob had a little lamb Its fleece was white as snow And everywhere that Bob went Bob went, Bob went Everywhere that Bob went The lamb was sure to go\n"
          ]
        }
      ]
    },
    {
      "cell_type": "markdown",
      "source": [
        "LAB 2 TUPLAS"
      ],
      "metadata": {
        "id": "_7WLexOnqN5d"
      }
    },
    {
      "cell_type": "code",
      "source": [
        "# Tupla de ejemplo\n",
        "\n",
        "genres_tuple = (\"pop\",\"rock\",\"soul\",\"hard rock\",\"soft rock\",\\\n",
        "                \"R&B\",\"progressive rock\",\"disco\")\n",
        "genres_tuple"
      ],
      "metadata": {
        "colab": {
          "base_uri": "https://localhost:8080/"
        },
        "id": "444F4o6qqNSj",
        "outputId": "dbccb1ff-3637-4740-c1e5-ac690f640917"
      },
      "execution_count": null,
      "outputs": [
        {
          "output_type": "execute_result",
          "data": {
            "text/plain": [
              "('pop',\n",
              " 'rock',\n",
              " 'soul',\n",
              " 'hard rock',\n",
              " 'soft rock',\n",
              " 'R&B',\n",
              " 'progressive rock',\n",
              " 'disco')"
            ]
          },
          "metadata": {},
          "execution_count": 19
        }
      ]
    },
    {
      "cell_type": "code",
      "source": [
        "#Encontrar la longitud de la tupla\n",
        "len(genres_tuple)"
      ],
      "metadata": {
        "colab": {
          "base_uri": "https://localhost:8080/"
        },
        "id": "Jd0heHR0qWJV",
        "outputId": "f76b15ec-7a89-4ebc-f8be-cb716d9acc44"
      },
      "execution_count": null,
      "outputs": [
        {
          "output_type": "execute_result",
          "data": {
            "text/plain": [
              "8"
            ]
          },
          "metadata": {},
          "execution_count": 15
        }
      ]
    },
    {
      "cell_type": "code",
      "source": [
        "#Accede al elemento del incide 3\n",
        "genres_tuple[3]"
      ],
      "metadata": {
        "colab": {
          "base_uri": "https://localhost:8080/",
          "height": 36
        },
        "id": "palU1HBNqiZF",
        "outputId": "0482d6b9-70cc-47f4-96cf-7f8cfa6ae4c2"
      },
      "execution_count": null,
      "outputs": [
        {
          "output_type": "execute_result",
          "data": {
            "text/plain": [
              "'hard rock'"
            ],
            "application/vnd.google.colaboratory.intrinsic+json": {
              "type": "string"
            }
          },
          "metadata": {},
          "execution_count": 16
        }
      ]
    },
    {
      "cell_type": "code",
      "source": [
        "#Utiliza el slicing para obtener los índices 3, 4 y 5:\n",
        "genres_tuple[3:6]"
      ],
      "metadata": {
        "colab": {
          "base_uri": "https://localhost:8080/"
        },
        "id": "IfkHj9AUqqBX",
        "outputId": "80079d4b-6070-4428-ac2c-3007b6cabf98"
      },
      "execution_count": null,
      "outputs": [
        {
          "output_type": "execute_result",
          "data": {
            "text/plain": [
              "('hard rock', 'soft rock', 'R&B')"
            ]
          },
          "metadata": {},
          "execution_count": 20
        }
      ]
    },
    {
      "cell_type": "code",
      "source": [
        "#Encuentra los primeros dos elementos de la tupla genres_tuple:\n",
        "genres_tuple[0:2]"
      ],
      "metadata": {
        "colab": {
          "base_uri": "https://localhost:8080/"
        },
        "id": "WxhuqTz-ryrI",
        "outputId": "afbfbb0d-bbe8-4142-9cc6-8a5428f36d2a"
      },
      "execution_count": null,
      "outputs": [
        {
          "output_type": "execute_result",
          "data": {
            "text/plain": [
              "('pop', 'rock')"
            ]
          },
          "metadata": {},
          "execution_count": 21
        }
      ]
    },
    {
      "cell_type": "code",
      "source": [
        "#Encuentra el primer índice de \"disco\":\n",
        "genres_tuple.index(\"disco\")"
      ],
      "metadata": {
        "colab": {
          "base_uri": "https://localhost:8080/"
        },
        "id": "gv1Ua4BIs7Ko",
        "outputId": "f161cc63-856e-40fd-a7a8-16c2f0aa9ebb"
      },
      "execution_count": null,
      "outputs": [
        {
          "output_type": "execute_result",
          "data": {
            "text/plain": [
              "7"
            ]
          },
          "metadata": {},
          "execution_count": 23
        }
      ]
    },
    {
      "cell_type": "code",
      "source": [
        "#Genera una lista ordenada desde la tupla C_tuple=(-5, 1, -3):\n",
        "C_tuple=(-5, 1, -3)\n",
        "Ctuple= sorted(C_tuple)\n",
        "Ctuple"
      ],
      "metadata": {
        "colab": {
          "base_uri": "https://localhost:8080/"
        },
        "id": "AlyX9arVtjj7",
        "outputId": "0657732c-88cb-4ebe-b24f-e02053e77a29"
      },
      "execution_count": null,
      "outputs": [
        {
          "output_type": "execute_result",
          "data": {
            "text/plain": [
              "[-5, -3, 1]"
            ]
          },
          "metadata": {},
          "execution_count": 24
        }
      ]
    },
    {
      "cell_type": "markdown",
      "source": [
        "LAB 3 ***LISTAS***"
      ],
      "metadata": {
        "id": "5pDq2SumKh7s"
      }
    },
    {
      "cell_type": "code",
      "source": [
        "#Crea una lista a_lit con los siguientes elementos 1, hello, [1,2,3] y True.\n",
        "a_lit =[1, \"hello\", [1,2,3], True]\n",
        "a_lit"
      ],
      "metadata": {
        "colab": {
          "base_uri": "https://localhost:8080/"
        },
        "id": "uRg-jiZvKmfE",
        "outputId": "3b759010-159a-4ed8-9923-4817e5776c3f"
      },
      "execution_count": null,
      "outputs": [
        {
          "output_type": "execute_result",
          "data": {
            "text/plain": [
              "[1, 'hello', [1, 2, 3], True]"
            ]
          },
          "metadata": {},
          "execution_count": 2
        }
      ]
    },
    {
      "cell_type": "code",
      "source": [
        "#Encuentra el valor almacenado en el índice 1 de a_list\n",
        "a_lit[1]"
      ],
      "metadata": {
        "colab": {
          "base_uri": "https://localhost:8080/",
          "height": 35
        },
        "id": "jS66z5-pK5II",
        "outputId": "25a7e55e-037f-45f2-8f6d-94b0c23cb41a"
      },
      "execution_count": null,
      "outputs": [
        {
          "output_type": "execute_result",
          "data": {
            "text/plain": [
              "'hello'"
            ],
            "application/vnd.google.colaboratory.intrinsic+json": {
              "type": "string"
            }
          },
          "metadata": {},
          "execution_count": 5
        }
      ]
    },
    {
      "cell_type": "code",
      "source": [
        "#Obtén el elemento almacenado en el índice 1, 2 y 3 de a_list\n",
        "a_lit[1:4]"
      ],
      "metadata": {
        "colab": {
          "base_uri": "https://localhost:8080/"
        },
        "id": "wYaUztJmLMvp",
        "outputId": "ef897640-d087-445e-fed0-b73212f17bad"
      },
      "execution_count": null,
      "outputs": [
        {
          "output_type": "execute_result",
          "data": {
            "text/plain": [
              "['hello', [1, 2, 3], True]"
            ]
          },
          "metadata": {},
          "execution_count": 6
        }
      ]
    },
    {
      "cell_type": "code",
      "source": [
        "#Concatena las siguientes listas A = [1, 'a'] y B = [2, 1, 'd']:\n",
        "A = [1, 'a']\n",
        "B = [2, 1, 'd']\n",
        "C = A+B\n",
        "C"
      ],
      "metadata": {
        "colab": {
          "base_uri": "https://localhost:8080/"
        },
        "id": "2snY8B2hLSlQ",
        "outputId": "e20e9e64-a8b6-4521-81eb-0f9c8a4a3604"
      },
      "execution_count": null,
      "outputs": [
        {
          "output_type": "execute_result",
          "data": {
            "text/plain": [
              "[1, 'a', 2, 1, 'd']"
            ]
          },
          "metadata": {},
          "execution_count": 9
        }
      ]
    },
    {
      "cell_type": "markdown",
      "source": [
        "LAB 4 ***CONJUNTOS***"
      ],
      "metadata": {
        "id": "ooJr1Wy608mo"
      }
    },
    {
      "cell_type": "code",
      "source": [
        "#transformar la lista ['rap','house','electronic music', 'rap'] en un conjunto:\n",
        "set_3 = set(['rap','house','electronic music', 'rap'])\n",
        "set_3"
      ],
      "metadata": {
        "colab": {
          "base_uri": "https://localhost:8080/"
        },
        "id": "qawhOTS11ECC",
        "outputId": "fc20c689-d3b1-4a6f-ae90-3ffe12a842b9"
      },
      "execution_count": null,
      "outputs": [
        {
          "output_type": "execute_result",
          "data": {
            "text/plain": [
              "{'electronic music', 'house', 'rap'}"
            ]
          },
          "metadata": {},
          "execution_count": 1
        }
      ]
    },
    {
      "cell_type": "code",
      "source": [
        "#Considera que la lista A = [1, 2, 2, 1] y el conjunto B = set([1, 2, 2, 1]) suman sum(A) = sum(B)\n",
        "A= [1, 2, 2, 1]\n",
        "B= set([1,2,2,1])\n",
        "print(sum(A))\n",
        "print(sum(B))\n",
        "sum(A)==sum(B)"
      ],
      "metadata": {
        "colab": {
          "base_uri": "https://localhost:8080/"
        },
        "id": "Efhgvw6x1uLZ",
        "outputId": "e90e3a12-8878-4e15-a8cd-355d39c65a7c"
      },
      "execution_count": null,
      "outputs": [
        {
          "output_type": "stream",
          "name": "stdout",
          "text": [
            "6\n",
            "3\n"
          ]
        },
        {
          "output_type": "execute_result",
          "data": {
            "text/plain": [
              "False"
            ]
          },
          "metadata": {},
          "execution_count": 6
        }
      ]
    },
    {
      "cell_type": "code",
      "source": [
        "#Crea un nuevo conjunto album_set3 que sea la unión de album_set1 y album_set2:\n",
        "album_set1 = set([\"Thriller\", 'AC/DC', 'Back in Black'])\n",
        "album_set2 = set([ \"AC/DC\", \"Back in Black\", \"The Dark Side of the Moon\"])\n",
        "album_set3= album_set1.union(album_set2)\n",
        "album_set3"
      ],
      "metadata": {
        "colab": {
          "base_uri": "https://localhost:8080/"
        },
        "id": "iLsh-_p42iGh",
        "outputId": "07facb3a-cdda-4b04-dc9e-15888dc00322"
      },
      "execution_count": null,
      "outputs": [
        {
          "output_type": "execute_result",
          "data": {
            "text/plain": [
              "{'AC/DC', 'Back in Black', 'The Dark Side of the Moon', 'Thriller'}"
            ]
          },
          "metadata": {},
          "execution_count": 8
        }
      ]
    },
    {
      "cell_type": "code",
      "source": [
        "#Averigua si album_set1 es un subconjunto de album_set3:\n",
        "album_set1.issubset(album_set3)"
      ],
      "metadata": {
        "colab": {
          "base_uri": "https://localhost:8080/"
        },
        "id": "4QmnqP1c38_y",
        "outputId": "a3e9dbe8-3b93-4e06-9d6d-da5aa436186a"
      },
      "execution_count": null,
      "outputs": [
        {
          "output_type": "execute_result",
          "data": {
            "text/plain": [
              "True"
            ]
          },
          "metadata": {},
          "execution_count": 10
        }
      ]
    },
    {
      "cell_type": "markdown",
      "source": [
        "LAB 5 ***DICCIONARIOS*** **texto en negrita**"
      ],
      "metadata": {
        "id": "aYbUvJ1v4Ron"
      }
    },
    {
      "cell_type": "code",
      "source": [
        "# Pregunta - Diccionario de ejemplo\n",
        "\n",
        "soundtrack_dic = {\"The Bodyguard\":\"1992\", \"Saturday Night Fever\":\"1977\"}\n",
        "soundtrack_dic\n",
        "\n"
      ],
      "metadata": {
        "colab": {
          "base_uri": "https://localhost:8080/"
        },
        "id": "LdEdJfxVCCRk",
        "outputId": "3c481ecb-a456-48a4-bbb1-cb543af29230"
      },
      "execution_count": null,
      "outputs": [
        {
          "output_type": "execute_result",
          "data": {
            "text/plain": [
              "{'The Bodyguard': '1992', 'Saturday Night Fever': '1977'}"
            ]
          },
          "metadata": {},
          "execution_count": 33
        }
      ]
    },
    {
      "cell_type": "code",
      "source": [
        "\n",
        "#a) En el diccionario soundtrack_dict. ¿Cuáles son las llaves?\n",
        "#  R/  \"The Bodyguard\"  Y   \"Saturday Night Fever\"\n",
        "\n",
        "#b) En el diccionario soundtrack_dict. ¿Cuáles son los valores?\n",
        "# R/  \"1992\"  Y  \"1977\""
      ],
      "metadata": {
        "id": "n2X5rW8lDxt6"
      },
      "execution_count": null,
      "outputs": []
    },
    {
      "cell_type": "code",
      "source": [
        "#Los discos Back in Black, The Bodyguard y Thriller poseen el siguiente record de ventas en millones, 50, 50 y 65 respectivamente:\n",
        "\n",
        "#a) Crea un diccionario album_sales_dict donde las llaves sean el nombre del disco y los valores la cantidad de ventas en millones.\n",
        "\n",
        "album_sales_dict = {\"Back in Black \": 50000000, \"The Bodyguard\": 50000000, \"Thriller\": 65000000}\n",
        "album_sales_dict"
      ],
      "metadata": {
        "colab": {
          "base_uri": "https://localhost:8080/"
        },
        "id": "yasycJhoEqJu",
        "outputId": "4a64bc09-652d-4a2e-8aef-e640c79ee843"
      },
      "execution_count": null,
      "outputs": [
        {
          "output_type": "execute_result",
          "data": {
            "text/plain": [
              "{'Back in Black ': 50000000, 'The Bodyguard': 50000000, 'Thriller': 65000000}"
            ]
          },
          "metadata": {},
          "execution_count": 34
        }
      ]
    },
    {
      "cell_type": "code",
      "source": [
        "#b) Usa el diccionario para encontrar las ventas totales de Thriller:\n",
        "album_sales_dict['Thriller']"
      ],
      "metadata": {
        "colab": {
          "base_uri": "https://localhost:8080/"
        },
        "id": "NIUJZwojF_hW",
        "outputId": "92ad431b-37c2-4bed-a881-2e7782f8e5d2"
      },
      "execution_count": null,
      "outputs": [
        {
          "output_type": "execute_result",
          "data": {
            "text/plain": [
              "65000000"
            ]
          },
          "metadata": {},
          "execution_count": 45
        }
      ]
    },
    {
      "cell_type": "code",
      "source": [
        "#c) Encuentra los nombres de los discos dentro del diccionario mediante el método keys:\n",
        "\n",
        "album_sales_dict.keys()"
      ],
      "metadata": {
        "colab": {
          "base_uri": "https://localhost:8080/"
        },
        "id": "XDU9-YaMHR1v",
        "outputId": "7adf29eb-710c-4385-e260-be7ea3734d45"
      },
      "execution_count": null,
      "outputs": [
        {
          "output_type": "execute_result",
          "data": {
            "text/plain": [
              "dict_keys(['Back in Black ', 'The Bodyguard', 'Thriller'])"
            ]
          },
          "metadata": {},
          "execution_count": 46
        }
      ]
    },
    {
      "cell_type": "code",
      "source": [
        "#d) Encuentra los records de ventas dentro del diccionario mediante el método values:\n",
        "album_sales_dict.values()"
      ],
      "metadata": {
        "colab": {
          "base_uri": "https://localhost:8080/"
        },
        "id": "-uKVhJi7HauL",
        "outputId": "a0ec9c79-0f16-45c8-cca5-172b3927908d"
      },
      "execution_count": null,
      "outputs": [
        {
          "output_type": "execute_result",
          "data": {
            "text/plain": [
              "dict_values([50000000, 50000000, 65000000])"
            ]
          },
          "metadata": {},
          "execution_count": 47
        }
      ]
    },
    {
      "cell_type": "markdown",
      "source": [
        "LAB 6 ***CONDICIONES***"
      ],
      "metadata": {
        "id": "YN38tR457JIC"
      }
    },
    {
      "cell_type": "code",
      "source": [
        "#Escribe una declaración if que determine si un disco musical tiene una calificación mayor a 8. Compruébalo utilizando el calificación del disco “Back in Black” el cual tiene un valor de 8.5. Si la condición es verdadera, imprime “\"This album is Amazing!\"”\n",
        "Caldisco = {\"Back in Black\": 8.5}\n",
        "disco = Caldisco[\"Back in Black\"]\n",
        "\n",
        "if(disco > 8):\n",
        "  print(\"The album is amazing\")\n"
      ],
      "metadata": {
        "colab": {
          "base_uri": "https://localhost:8080/"
        },
        "id": "w_9sJ3Ug7P8l",
        "outputId": "f7de04e9-0add-4b35-90b8-224cbd0a1388"
      },
      "execution_count": null,
      "outputs": [
        {
          "output_type": "stream",
          "name": "stdout",
          "text": [
            "The album is amazing\n"
          ]
        }
      ]
    },
    {
      "cell_type": "code",
      "source": [
        "#Escribe una declaración if-else que determine lo siguiente. Si la calificación es mayor que 8 imprime “this album is amazing”. Si es menor o igual a 8 que imprima “this album is ok”.\n",
        "Caldisco = {\"Back in Black\": 7}\n",
        "disco = Caldisco[\"Back in Black\"]\n",
        "\n",
        "if(disco > 8):\n",
        "  print(\"The album is amazing\")\n",
        "\n",
        "else:\n",
        "  print(\"this album is ok\")"
      ],
      "metadata": {
        "colab": {
          "base_uri": "https://localhost:8080/"
        },
        "id": "FyaFCl9h-7Y5",
        "outputId": "4d075875-2ead-4ca2-8b5c-2b52dd376aa2"
      },
      "execution_count": null,
      "outputs": [
        {
          "output_type": "stream",
          "name": "stdout",
          "text": [
            "this album is ok\n"
          ]
        }
      ]
    },
    {
      "cell_type": "code",
      "source": [
        "#Escribe una declaración if que determine si un disco fue lanzado antes de 1980 o en los años 1991 o 1993. Si la condición es verdadera imprime el año de lanzamiento.\n",
        "año = 2000\n",
        "if(año<1980 or año<1991 or año<1993):\n",
        "  print(año)"
      ],
      "metadata": {
        "id": "kyS__k-7_47i"
      },
      "execution_count": null,
      "outputs": []
    },
    {
      "cell_type": "markdown",
      "source": [
        "LAB 7 ***BUBLES***"
      ],
      "metadata": {
        "id": "X7IX2GwrQey8"
      }
    },
    {
      "cell_type": "code",
      "source": [
        "#Escribe un bucle for que imprima todos los elementos entre -5 y 5 usando la función range.\n",
        "for i in range(-5,5):\n",
        "  print(i)"
      ],
      "metadata": {
        "colab": {
          "base_uri": "https://localhost:8080/"
        },
        "id": "YPdzeywdQhjD",
        "outputId": "a40487e5-1943-47ae-967b-32c7f0a47a57"
      },
      "execution_count": null,
      "outputs": [
        {
          "output_type": "stream",
          "name": "stdout",
          "text": [
            "-5\n",
            "-4\n",
            "-3\n",
            "-2\n",
            "-1\n",
            "0\n",
            "1\n",
            "2\n",
            "3\n",
            "4\n"
          ]
        }
      ]
    },
    {
      "cell_type": "code",
      "source": [
        "#Imprime los elementos de la siguiente lista: Genres=[ 'rock', 'R&B', 'Soundtrack', 'R&B', 'soul', 'pop'] Y asegúrate de seguir las convenciones del lenguaje Python\n",
        "Genres=[ 'rock', 'R&B', 'Soundtrack', 'R&B', 'soul', 'pop']\n",
        "for i  in Genres:\n",
        "  print(i)"
      ],
      "metadata": {
        "colab": {
          "base_uri": "https://localhost:8080/"
        },
        "id": "tYCHXaHdQ3MC",
        "outputId": "17fb9fe2-dd7b-4b46-8ac6-510f4b6d2488"
      },
      "execution_count": null,
      "outputs": [
        {
          "output_type": "stream",
          "name": "stdout",
          "text": [
            "rock\n",
            "R&B\n",
            "Soundtrack\n",
            "R&B\n",
            "soul\n",
            "pop\n"
          ]
        }
      ]
    },
    {
      "cell_type": "code",
      "source": [
        "#Escribe un bucle for que imprima la siguiente lista: squares=['red', 'yellow', 'green', 'purple', 'blue']\n",
        "squares=['red', 'yellow', 'green', 'purple', 'blue']\n",
        "for i in squares:\n",
        "  print(i)"
      ],
      "metadata": {
        "colab": {
          "base_uri": "https://localhost:8080/"
        },
        "id": "YviC5FvWRdOK",
        "outputId": "72b5f7b6-d6fd-40b8-a06a-40d75bd9e695"
      },
      "execution_count": null,
      "outputs": [
        {
          "output_type": "stream",
          "name": "stdout",
          "text": [
            "red\n",
            "yellow\n",
            "green\n",
            "purple\n",
            "blue\n"
          ]
        }
      ]
    },
    {
      "cell_type": "code",
      "source": [
        "#Escribe un bucle while que muestre los valores de la calificación de las canciones de un disco almacenados en la lista PlayListRatings. Si la calificación es menor a 6, sal del bucle. La lista PlayListRatings esta compuesta por: PlayListRatings = [10, 9.5, 10, 8, 7.5, 5, 10, 10]\n",
        "PlayListRatings = [10, 9.5, 10, 8, 7.5, 5, 10, 10]\n",
        "i=0\n",
        "\n",
        "while(PlayListRatings[i]>  6):\n",
        "\n",
        "  print(PlayListRatings[i])\n",
        "  i=i+1\n",
        "\n"
      ],
      "metadata": {
        "colab": {
          "base_uri": "https://localhost:8080/"
        },
        "id": "z1C6sqtKRuUw",
        "outputId": "c4da93fd-af0c-4c6c-d7a6-cafbbb5a8cca"
      },
      "execution_count": null,
      "outputs": [
        {
          "output_type": "stream",
          "name": "stdout",
          "text": [
            "10\n",
            "9.5\n",
            "10\n",
            "8\n",
            "7.5\n"
          ]
        }
      ]
    },
    {
      "cell_type": "code",
      "source": [
        "#Escribe un bucle while que copie las cadenas 'orange' de la lista squares a la lista new_squares. Detente y sal del ciclo si el valor en la lista no es 'orange':\n",
        "squares = ['orange', 'orange', 'purple', 'blue ', 'orange']\n",
        "new_squares = []\n",
        "i=0\n",
        "while(squares[i] == 'orange'):\n",
        "  new_squares.append(squares[i])\n",
        "  i=i+1\n",
        "print(new_squares)\n"
      ],
      "metadata": {
        "colab": {
          "base_uri": "https://localhost:8080/"
        },
        "id": "oQbgg0RxS1CC",
        "outputId": "3174248b-ee82-4c9c-c3fe-0b64d6924758"
      },
      "execution_count": null,
      "outputs": [
        {
          "output_type": "stream",
          "name": "stdout",
          "text": [
            "['orange', 'orange']\n"
          ]
        }
      ]
    },
    {
      "cell_type": "markdown",
      "source": [
        "LAB 8 ***FUNCIONES***"
      ],
      "metadata": {
        "id": "ar2WgTQ1-fEN"
      }
    },
    {
      "cell_type": "code",
      "source": [
        "#Cree una función que divida la primera entrada por la segunda entrada:\n",
        "def div(a, b):\n",
        "  return(a/b)\n",
        "\n",
        "div(10, 2)"
      ],
      "metadata": {
        "colab": {
          "base_uri": "https://localhost:8080/"
        },
        "id": "THr5RvPB-kQ8",
        "outputId": "30f48ce2-b1a1-424d-c35d-72afb78ec8e2"
      },
      "execution_count": 2,
      "outputs": [
        {
          "output_type": "execute_result",
          "data": {
            "text/plain": [
              "5.0"
            ]
          },
          "metadata": {},
          "execution_count": 2
        }
      ]
    },
    {
      "cell_type": "code",
      "source": [
        "#Utilice la función  con  para la siguiente pregunta\n",
        "def con(a, b):\n",
        "    return(a + b)\n",
        "    #¿Se puede usar la función  con  que definimos antes para agregar números enteros o cadenas?\n",
        "con(\"SI\",\" SE PUEDE\")"
      ],
      "metadata": {
        "colab": {
          "base_uri": "https://localhost:8080/",
          "height": 36
        },
        "id": "vLSiKval-8Tt",
        "outputId": "a74e6406-6879-46ad-c72a-6bc7c9776138"
      },
      "execution_count": 3,
      "outputs": [
        {
          "output_type": "execute_result",
          "data": {
            "text/plain": [
              "'SI SE PUEDE'"
            ],
            "application/vnd.google.colaboratory.intrinsic+json": {
              "type": "string"
            }
          },
          "metadata": {},
          "execution_count": 3
        }
      ]
    },
    {
      "cell_type": "code",
      "source": [
        "#¿Se puede usar la función  con  que definimos antes para concentrar una lista o tupla?\n",
        "con([\"si\", \"se\"], [\"puede\", \"hacer\"])"
      ],
      "metadata": {
        "colab": {
          "base_uri": "https://localhost:8080/"
        },
        "id": "sn9M39C2_Vdd",
        "outputId": "72d624a3-a4ac-4de5-ddc6-ae910a902225"
      },
      "execution_count": 4,
      "outputs": [
        {
          "output_type": "execute_result",
          "data": {
            "text/plain": [
              "['si', 'se', 'puede', 'hacer']"
            ]
          },
          "metadata": {},
          "execution_count": 4
        }
      ]
    },
    {
      "cell_type": "markdown",
      "source": [
        "LAB 9 ***CLASES Y OBJETOS***"
      ],
      "metadata": {
        "id": "puoxglxa_zka"
      }
    },
    {
      "cell_type": "code",
      "source": [
        "from matplotlib.patches import Ellipse as mplEllipse #Rename imported Ellipse\n",
        "import matplotlib.pyplot as plt\n",
        "\n",
        "#Se requiere crear una clase Elipse, la cual el constructor sea con valores iniciales cualesquiera. Adicionalmente, la clase debe tener los siguientes métodos:\n",
        "\n",
        "#1.- Cambiar el ancho\n",
        "\n",
        "#2.- Cambiar el alto\n",
        "\n",
        "#3.- Cambiar el color de relleno\n",
        "\n",
        "#4.- Cambiar el color de borde\n",
        "\n",
        "#5.- Dibujar\n",
        "class Ellipse(object):\n",
        "  def __init__(self, ancho, alto, color_r, color_b,  xy=(0, 0)):\n",
        "    self.ancho = ancho\n",
        "    self.alto = alto\n",
        "    self.color_r = color_r\n",
        "    self.color_b = color_b\n",
        "    self.xy = xy\n",
        "\n",
        "  def Dibujar(self):\n",
        "    # Create an Ellipse instance from matplotlib.patches\n",
        "    ellipse_patch = mplEllipse(self.xy, self.ancho, self.alto, facecolor = self.color_r, edgecolor = self.color_b) #Use mplEllipse\n",
        "    plt.gca().add_patch(ellipse_patch)\n",
        "\n",
        "Ellipse_A = Ellipse(1, 2, \"red\", \"blue\")"
      ],
      "metadata": {
        "id": "lu9sIUIV_yxR"
      },
      "execution_count": 32,
      "outputs": []
    },
    {
      "cell_type": "code",
      "source": [
        "Ellipse_A.ancho"
      ],
      "metadata": {
        "colab": {
          "base_uri": "https://localhost:8080/"
        },
        "id": "407iMLF6PE3e",
        "outputId": "170b84bc-e709-4499-bea0-f9d00ae81fb1"
      },
      "execution_count": 39,
      "outputs": [
        {
          "output_type": "execute_result",
          "data": {
            "text/plain": [
              "1"
            ]
          },
          "metadata": {},
          "execution_count": 39
        }
      ]
    },
    {
      "cell_type": "code",
      "source": [
        "Ellipse_A.alto"
      ],
      "metadata": {
        "colab": {
          "base_uri": "https://localhost:8080/"
        },
        "id": "XTDuaIWCPEwM",
        "outputId": "181fc962-b36f-4125-d6fc-0531fd405acd"
      },
      "execution_count": 40,
      "outputs": [
        {
          "output_type": "execute_result",
          "data": {
            "text/plain": [
              "2"
            ]
          },
          "metadata": {},
          "execution_count": 40
        }
      ]
    },
    {
      "cell_type": "code",
      "source": [
        "Ellipse_A.color_r"
      ],
      "metadata": {
        "colab": {
          "base_uri": "https://localhost:8080/",
          "height": 36
        },
        "id": "CueKbAIePEoA",
        "outputId": "ce4c17c5-192d-495d-aab5-1e60f236d830"
      },
      "execution_count": 41,
      "outputs": [
        {
          "output_type": "execute_result",
          "data": {
            "text/plain": [
              "'red'"
            ],
            "application/vnd.google.colaboratory.intrinsic+json": {
              "type": "string"
            }
          },
          "metadata": {},
          "execution_count": 41
        }
      ]
    },
    {
      "cell_type": "code",
      "source": [
        "Ellipse_A.color_b"
      ],
      "metadata": {
        "colab": {
          "base_uri": "https://localhost:8080/",
          "height": 36
        },
        "id": "MZCo-8F1PEe5",
        "outputId": "1767204d-0186-44e3-f121-27900c147434"
      },
      "execution_count": 42,
      "outputs": [
        {
          "output_type": "execute_result",
          "data": {
            "text/plain": [
              "'blue'"
            ],
            "application/vnd.google.colaboratory.intrinsic+json": {
              "type": "string"
            }
          },
          "metadata": {},
          "execution_count": 42
        }
      ]
    },
    {
      "cell_type": "code",
      "source": [
        "\n",
        "\n",
        "Ellipse_A.Dibujar()"
      ],
      "metadata": {
        "colab": {
          "base_uri": "https://localhost:8080/",
          "height": 435
        },
        "id": "RrRTL6VFLlmv",
        "outputId": "de004c2d-cf60-4070-e030-0a84e6bad5cf"
      },
      "execution_count": 43,
      "outputs": [
        {
          "output_type": "display_data",
          "data": {
            "text/plain": [
              "<Figure size 640x480 with 1 Axes>"
            ],
            "image/png": "[encoded data removed]"
          },
          "metadata": {}
        }
      ]
    },
    {
      "cell_type": "markdown",
      "source": [
        "LAB 10 ***EJERCICIOS***"
      ],
      "metadata": {
        "id": "4TdX4rjg4Dnl"
      }
    },
    {
      "cell_type": "markdown",
      "source": [
        "CALENTAMIENTO"
      ],
      "metadata": {
        "id": "LMe1DLCg82EG"
      }
    },
    {
      "cell_type": "code",
      "source": [
        "#MENOR DE DOS PARES: Escriba una función que devuelva el menor de dos números dados si ambos números son pares, pero devuelva el mayor si uno o ambos números son impares\n",
        "def lesser_of_two_evens(a,b):\n",
        "  if(a%2==0 and b%2==0):\n",
        "\n",
        "    if(a<b):\n",
        "      print(\"el numero menor es: \", a)\n",
        "    else:\n",
        "      print(\"el numero menor es: \", b)\n",
        "\n",
        "  else:\n",
        "    if(a>b):\n",
        "      print(\"el numero menor es: \", a)\n",
        "    else:\n",
        "      print(\"el numero menor es: \", b)\n",
        "\n",
        "lesser_of_two_evens(2,4)\n",
        "lesser_of_two_evens(2,5)\n",
        "\n"
      ],
      "metadata": {
        "colab": {
          "base_uri": "https://localhost:8080/"
        },
        "id": "9ys5Ulaq4GhH",
        "outputId": "313f4664-0f5e-4688-80e4-aa07a94ba550"
      },
      "execution_count": 3,
      "outputs": [
        {
          "output_type": "stream",
          "name": "stdout",
          "text": [
            "el numero menor es:  2\n",
            "el numero menor es:  5\n"
          ]
        }
      ]
    },
    {
      "cell_type": "code",
      "source": [
        "#GALLETAS DE ANIMALES: Escribir una función que toma una cadena de dos palabras y devuelve True si ambas palabras comienzan con la misma letra\n",
        "def animals_crackers(cadena):\n",
        "  palabras = cadena.split()\n",
        "  print(palabras)\n",
        "  return palabras[0][0]==palabras[1][0]\n",
        "\n",
        "animals_crackers('Ciudad Calor')\n",
        "\n",
        "\n"
      ],
      "metadata": {
        "colab": {
          "base_uri": "https://localhost:8080/"
        },
        "id": "gPJ9zIxd5svV",
        "outputId": "ebba85e9-9f6d-4dd1-e138-68e64c9112eb"
      },
      "execution_count": 10,
      "outputs": [
        {
          "output_type": "stream",
          "name": "stdout",
          "text": [
            "['Ciudad', 'Calor']\n"
          ]
        },
        {
          "output_type": "execute_result",
          "data": {
            "text/plain": [
              "True"
            ]
          },
          "metadata": {},
          "execution_count": 10
        }
      ]
    },
    {
      "cell_type": "code",
      "source": [
        "animals_crackers('Lugar Frio')"
      ],
      "metadata": {
        "colab": {
          "base_uri": "https://localhost:8080/"
        },
        "id": "lEoPhzlJ8FnR",
        "outputId": "74c8fe17-82d4-470e-d86a-8c22ab7df322"
      },
      "execution_count": 11,
      "outputs": [
        {
          "output_type": "stream",
          "name": "stdout",
          "text": [
            "['Lugar', 'Frio']\n"
          ]
        },
        {
          "output_type": "execute_result",
          "data": {
            "text/plain": [
              "False"
            ]
          },
          "metadata": {},
          "execution_count": 11
        }
      ]
    },
    {
      "cell_type": "code",
      "source": [
        "#HACE VEINTE: dados dos enteros, devuelve True si la suma de los enteros es 20 o si uno de los enteros es 20. De lo contrario, devuelve False\n",
        "def makes_twenty(n1,n2):\n",
        "  if(n1+n2==20 or n1==20 or n2==20):\n",
        "    return True\n",
        "  else:\n",
        "    return False"
      ],
      "metadata": {
        "id": "u_jtVZB08U8n"
      },
      "execution_count": 12,
      "outputs": []
    },
    {
      "cell_type": "code",
      "source": [
        "makes_twenty(20,10)"
      ],
      "metadata": {
        "colab": {
          "base_uri": "https://localhost:8080/"
        },
        "id": "_1ifIrXb8rs8",
        "outputId": "34ce91b1-4a5e-4190-8b07-3f44619c3ef2"
      },
      "execution_count": 13,
      "outputs": [
        {
          "output_type": "execute_result",
          "data": {
            "text/plain": [
              "True"
            ]
          },
          "metadata": {},
          "execution_count": 13
        }
      ]
    },
    {
      "cell_type": "code",
      "source": [
        "makes_twenty(2,3)"
      ],
      "metadata": {
        "colab": {
          "base_uri": "https://localhost:8080/"
        },
        "id": "yuuCCp-G8sXW",
        "outputId": "e36e4ecf-b89e-4152-b7d7-be034ea8793d"
      },
      "execution_count": 14,
      "outputs": [
        {
          "output_type": "execute_result",
          "data": {
            "text/plain": [
              "False"
            ]
          },
          "metadata": {},
          "execution_count": 14
        }
      ]
    },
    {
      "cell_type": "code",
      "source": [
        "makes_twenty(12,8)"
      ],
      "metadata": {
        "colab": {
          "base_uri": "https://localhost:8080/"
        },
        "id": "znJr8Amk8t_E",
        "outputId": "2e7eb7f2-e2b1-4f8c-b401-e18681335030"
      },
      "execution_count": 15,
      "outputs": [
        {
          "output_type": "execute_result",
          "data": {
            "text/plain": [
              "True"
            ]
          },
          "metadata": {},
          "execution_count": 15
        }
      ]
    },
    {
      "cell_type": "markdown",
      "source": [
        "NIVEL 1"
      ],
      "metadata": {
        "id": "DJy2Y1_984gm"
      }
    },
    {
      "cell_type": "code",
      "source": [
        "#MAYÚSCULAS: Escribir una función que haga mayúscula la primera y cuarta letra de una cadena de texto\n",
        "def old_macdonald(name):\n",
        "\n",
        "  nueva_cadena = name[0].upper()+name[1:3]+name[3].upper()+name[4:]\n",
        "  return nueva_cadena\n",
        ""
      ],
      "metadata": {
        "id": "9aeXrLYj85f8"
      },
      "execution_count": 21,
      "outputs": []
    },
    {
      "cell_type": "code",
      "source": [
        "old_macdonald('macdonald')"
      ],
      "metadata": {
        "colab": {
          "base_uri": "https://localhost:8080/",
          "height": 36
        },
        "id": "hflJUVWq9bzg",
        "outputId": "28566786-f107-45e1-f286-4b74294d1931"
      },
      "execution_count": 22,
      "outputs": [
        {
          "output_type": "execute_result",
          "data": {
            "text/plain": [
              "'MacDonald'"
            ],
            "application/vnd.google.colaboratory.intrinsic+json": {
              "type": "string"
            }
          },
          "metadata": {},
          "execution_count": 22
        }
      ]
    },
    {
      "cell_type": "code",
      "source": [
        "#REVERSA: Dada una oración, retornar la misma oración pero en reversa\n",
        "def master_yoda(text):\n",
        "  nueva = text.split()\n",
        "  nueva.reverse()\n",
        "  nueva_text = \" \".join(nueva)\n",
        "  return nueva_text"
      ],
      "metadata": {
        "id": "JkLk825f-gKu"
      },
      "execution_count": 32,
      "outputs": []
    },
    {
      "cell_type": "code",
      "source": [
        "master_yoda('I am home')"
      ],
      "metadata": {
        "colab": {
          "base_uri": "https://localhost:8080/",
          "height": 36
        },
        "id": "lZlXpljc_CUB",
        "outputId": "118e4074-c83f-4535-f476-8bc120f95ced"
      },
      "execution_count": 33,
      "outputs": [
        {
          "output_type": "execute_result",
          "data": {
            "text/plain": [
              "'home am I'"
            ],
            "application/vnd.google.colaboratory.intrinsic+json": {
              "type": "string"
            }
          },
          "metadata": {},
          "execution_count": 33
        }
      ]
    },
    {
      "cell_type": "code",
      "source": [
        "master_yoda('We are ready')"
      ],
      "metadata": {
        "colab": {
          "base_uri": "https://localhost:8080/",
          "height": 36
        },
        "id": "FZEJVXLd_wmm",
        "outputId": "4a172572-2bba-43f6-b905-c624b88392c3"
      },
      "execution_count": 29,
      "outputs": [
        {
          "output_type": "execute_result",
          "data": {
            "text/plain": [
              "'ready are We'"
            ],
            "application/vnd.google.colaboratory.intrinsic+json": {
              "type": "string"
            }
          },
          "metadata": {},
          "execution_count": 29
        }
      ]
    },
    {
      "cell_type": "markdown",
      "source": [
        "NIVEL 2"
      ],
      "metadata": {
        "id": "P4AK3ZMvAlMW"
      }
    },
    {
      "cell_type": "code",
      "source": [
        "#Dada una lista de enteros, retornar True si el arreglo tinene un 3 seguido por un 3 .\n",
        "def has_33(nums):\n",
        "  for i in range(0, len(nums)-1):\n",
        "   if(nums[i]==3 and nums[i+1]==3):\n",
        "    return True\n",
        "  return False\n"
      ],
      "metadata": {
        "id": "Kyl8ZHAeApDM"
      },
      "execution_count": 43,
      "outputs": []
    },
    {
      "cell_type": "code",
      "source": [
        "has_33([1, 3, 3])"
      ],
      "metadata": {
        "colab": {
          "base_uri": "https://localhost:8080/"
        },
        "id": "NT_2ypZgBPJL",
        "outputId": "1d7b4786-1e69-492a-aa1c-1b5151a02161"
      },
      "execution_count": 44,
      "outputs": [
        {
          "output_type": "execute_result",
          "data": {
            "text/plain": [
              "True"
            ]
          },
          "metadata": {},
          "execution_count": 44
        }
      ]
    },
    {
      "cell_type": "code",
      "source": [
        "has_33([1, 3, 1, 3])"
      ],
      "metadata": {
        "colab": {
          "base_uri": "https://localhost:8080/"
        },
        "id": "dAI7SAWTBRJi",
        "outputId": "e2af74d6-fa5a-4259-e130-10d0f01065b7"
      },
      "execution_count": 45,
      "outputs": [
        {
          "output_type": "execute_result",
          "data": {
            "text/plain": [
              "False"
            ]
          },
          "metadata": {},
          "execution_count": 45
        }
      ]
    },
    {
      "cell_type": "code",
      "source": [
        "has_33([3, 1, 3])"
      ],
      "metadata": {
        "colab": {
          "base_uri": "https://localhost:8080/"
        },
        "id": "wSPZuEMLBaDW",
        "outputId": "c6c0ac03-90eb-4a69-eda0-fe57e95c895c"
      },
      "execution_count": 46,
      "outputs": [
        {
          "output_type": "execute_result",
          "data": {
            "text/plain": [
              "False"
            ]
          },
          "metadata": {},
          "execution_count": 46
        }
      ]
    },
    {
      "cell_type": "code",
      "source": [
        "#REPLICADOR: Dada una cadena, devuelve una cadena donde por cada carácter en el original hay tres caracteres REPETIDOS\n",
        "\n",
        "\n",
        "def paper_doll(text):\n",
        "    resultado = \"\"\n",
        "    for letra in text:\n",
        "        resultado += letra * 3\n",
        "    return resultado"
      ],
      "metadata": {
        "id": "M8CJfmqrCPP8"
      },
      "execution_count": 60,
      "outputs": []
    },
    {
      "cell_type": "code",
      "source": [
        "paper_doll('Hello')"
      ],
      "metadata": {
        "colab": {
          "base_uri": "https://localhost:8080/",
          "height": 36
        },
        "id": "8FqY_0x-CsE-",
        "outputId": "2bd81314-dcfb-451b-91ab-c85912b282b8"
      },
      "execution_count": 61,
      "outputs": [
        {
          "output_type": "execute_result",
          "data": {
            "text/plain": [
              "'HHHeeellllllooo'"
            ],
            "application/vnd.google.colaboratory.intrinsic+json": {
              "type": "string"
            }
          },
          "metadata": {},
          "execution_count": 61
        }
      ]
    },
    {
      "cell_type": "code",
      "source": [
        "paper_doll('Mississippi')"
      ],
      "metadata": {
        "colab": {
          "base_uri": "https://localhost:8080/",
          "height": 36
        },
        "id": "AGnZEaT1CvjO",
        "outputId": "d12ba7f5-6ab6-44ab-a41d-f303dc3dc22d"
      },
      "execution_count": 62,
      "outputs": [
        {
          "output_type": "execute_result",
          "data": {
            "text/plain": [
              "'MMMiiissssssiiissssssiiippppppiii'"
            ],
            "application/vnd.google.colaboratory.intrinsic+json": {
              "type": "string"
            }
          },
          "metadata": {},
          "execution_count": 62
        }
      ]
    },
    {
      "cell_type": "code",
      "source": [
        "#BLACKJACK: Dados tres enteros entre 1 y 11, si su suma es menor o igual a 21, devuelve su suma. Si su suma excede 21 y hay un once, reduce la suma total en 10. Finalmente, si la suma (incluso después del ajuste) excede 21, devuelve 'BUST'\n",
        "def blackjack(a,b,c):\n",
        "  suma = a+b+c\n",
        "  if(suma<=21):\n",
        "    return suma\n",
        "  else:\n",
        "    if(a==11 or b==11 or c==11):\n",
        "      suma = suma-10\n",
        "    if(suma>21):\n",
        "      return 'BUST'\n",
        "    else:\n",
        "      return suma"
      ],
      "metadata": {
        "id": "zz743VgCDibg"
      },
      "execution_count": 63,
      "outputs": []
    },
    {
      "cell_type": "code",
      "source": [
        "blackjack(5,6,7)"
      ],
      "metadata": {
        "colab": {
          "base_uri": "https://localhost:8080/"
        },
        "id": "o3cG7OImD2Mt",
        "outputId": "ca5bf798-bbe3-4d64-8f60-d240e7b2366d"
      },
      "execution_count": 64,
      "outputs": [
        {
          "output_type": "execute_result",
          "data": {
            "text/plain": [
              "18"
            ]
          },
          "metadata": {},
          "execution_count": 64
        }
      ]
    },
    {
      "cell_type": "code",
      "source": [
        "blackjack(9,9,9)"
      ],
      "metadata": {
        "colab": {
          "base_uri": "https://localhost:8080/",
          "height": 36
        },
        "id": "o53HGenSD4rW",
        "outputId": "bf537ffb-95d2-450d-f8b3-d688529d50f1"
      },
      "execution_count": 65,
      "outputs": [
        {
          "output_type": "execute_result",
          "data": {
            "text/plain": [
              "'BUST'"
            ],
            "application/vnd.google.colaboratory.intrinsic+json": {
              "type": "string"
            }
          },
          "metadata": {},
          "execution_count": 65
        }
      ]
    },
    {
      "cell_type": "code",
      "source": [
        "blackjack(9,9,11)"
      ],
      "metadata": {
        "colab": {
          "base_uri": "https://localhost:8080/"
        },
        "id": "IgBuqbonD6QI",
        "outputId": "30a93c17-38be-4173-8234-d39b9ae042c1"
      },
      "execution_count": 66,
      "outputs": [
        {
          "output_type": "execute_result",
          "data": {
            "text/plain": [
              "19"
            ]
          },
          "metadata": {},
          "execution_count": 66
        }
      ]
    }
  ]
}